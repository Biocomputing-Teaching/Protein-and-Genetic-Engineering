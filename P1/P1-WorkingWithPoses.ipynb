{
 "cells": [
  {
   "cell_type": "markdown",
   "id": "stopped-archive",
   "metadata": {},
   "source": [
    "# Protein and Genetic Engineering\n",
    "\n",
    "### P1 - Working with poses\n",
    "\n",
    "#### Introduction\n",
    "\n",
    "When working with protein structures, it is essential to access the structural data straightforwardly. This information includes data about the protein's composition, topology, coordinates, etc. With visualization, which helps to gain information about the protein's structure spatial organization, programs can carry out many valuable calculations to further our understanding of the macromolecular system and its functions.\n",
    "[PyRosetta](http://www.pyrosetta.org/) is a library that allows to model and design of macromolecular structures. It is written in Python and is based on a more extensive program called [Rosetta](https://www.rosettacommons.org/). Here, we review some basic concepts to learn how to access and manipulate protein's structural data using this library.\n",
    "\n",
    "#### Importing and initializing Rosetta\n",
    "\n",
    "First, we start by importing the library's content in our Jupyter notebook:"
   ]
  },
  {
   "cell_type": "code",
   "execution_count": null,
   "id": "atomic-myrtle",
   "metadata": {},
   "outputs": [],
   "source": [
    "from pyrosetta import *\n",
    "init()"
   ]
  },
  {
   "cell_type": "markdown",
   "id": "representative-thomas",
   "metadata": {},
   "source": [
    "#### Loading a protein structure as a ```Pose``` object\n",
    "\n",
    "PyRosetta reads PDB files into a ```Pose()``` object. This is a special class with several methods about the protein's structure. We start by initilizing this class using as input a PDB file contained in the input folder:"
   ]
  },
  {
   "cell_type": "code",
   "execution_count": null,
   "id": "monthly-conspiracy",
   "metadata": {
    "scrolled": true
   },
   "outputs": [],
   "source": [
    "pose = pose_from_pdb('input/5TJ3.pdb')"
   ]
  },
  {
   "cell_type": "markdown",
   "id": "focused-modem",
   "metadata": {},
   "source": [
    "Our ```pose``` variable now reference the initialized instance of a PyRosetta's ```Pose()``` class. We can now access several attributes and methods inside this class. We note that a large output text is written upon loading the PDB file into a Pose class object. This output reflects details about the process of parsing the information contained in the PDB file. An important piece of information is the missing atoms in the PDB file, which are directly inferred from each residue's atomic composition. Since an incomplete residue inside the protein is senseless, the library automatically builds coordinates for the missing atoms based on known (and ideal) atom distance geometries for each residue type.\n",
    "\n",
    "We can find details about the ```Pose``` obecjt by calling the ```help()``` function on the object"
   ]
  },
  {
   "cell_type": "code",
   "execution_count": null,
   "id": "sharing-california",
   "metadata": {},
   "outputs": [],
   "source": [
    "help(pose)"
   ]
  },
  {
   "cell_type": "markdown",
   "id": "local-strip",
   "metadata": {},
   "source": [
    "### Accessing the ```Pose``` object sequence information\n",
    "\n",
    "We can access the protein sequence from the ```pose``` object:"
   ]
  },
  {
   "cell_type": "code",
   "execution_count": null,
   "id": "handed-shirt",
   "metadata": {},
   "outputs": [],
   "source": [
    "print(pose.sequence())"
   ]
  },
  {
   "cell_type": "markdown",
   "id": "immediate-worcester",
   "metadata": {},
   "source": [
    "We can see at the end of the sequence there are four 'Z' residues. These residues correspond to Zinc atoms in the protein. We can create a protein structure without any other molecule or ions by calling the ```cleanATOM()```, inside PyRosetta's toolbox, method upon the PDB file:"
   ]
  },
  {
   "cell_type": "code",
   "execution_count": null,
   "id": "coastal-validity",
   "metadata": {},
   "outputs": [],
   "source": [
    "from pyrosetta.toolbox import cleanATOM"
   ]
  },
  {
   "cell_type": "code",
   "execution_count": null,
   "id": "vital-astronomy",
   "metadata": {},
   "outputs": [],
   "source": [
    "cleanATOM('input/5TJ3.pdb')"
   ]
  },
  {
   "cell_type": "markdown",
   "id": "prostate-japan",
   "metadata": {},
   "source": [
    "If we now check the content of our \"input\" folder, we can see that a new file has been written down. The file name has the string .clean. inserted and represents the protein structure without any non-protein atom. We can load this structure into a new ```Pose()``` instance:"
   ]
  },
  {
   "cell_type": "code",
   "execution_count": null,
   "id": "representative-thriller",
   "metadata": {
    "scrolled": true
   },
   "outputs": [],
   "source": [
    "pose_clean = pose_from_pdb('input/5TJ3.clean.pdb')"
   ]
  },
  {
   "cell_type": "markdown",
   "id": "robust-rebecca",
   "metadata": {},
   "source": [
    "Let's print the sequence of this new PDB file:"
   ]
  },
  {
   "cell_type": "code",
   "execution_count": null,
   "id": "animal-oasis",
   "metadata": {},
   "outputs": [],
   "source": [
    "print(pose_clean.sequence())"
   ]
  },
  {
   "cell_type": "markdown",
   "id": "automatic-paintball",
   "metadata": {},
   "source": [
    "Notice how the two printed sequences differ between each other. The \"clean\" sequence does not contain the Zn atoms anymore. We can also device an easy algorithm to get the difference betwee this two sequences:"
   ]
  },
  {
   "cell_type": "code",
   "execution_count": null,
   "id": "brilliant-corner",
   "metadata": {},
   "outputs": [],
   "source": [
    "### Get missing residues from poses ###\n",
    "\n",
    "# Build an alignment for the sequences of each pose\n",
    "sa = rosetta.core.sequence.align_poses_naive(pose, pose_clean)\n",
    "\n",
    "# Get the aligned sequences for each pose\n",
    "aligned_pose = sa.sequence(1).sequence()\n",
    "aligned_pose_clean = sa.sequence(2).sequence()\n",
    "\n",
    "# Create auxiliary variables for count each sequences' positions. \n",
    "c1 = 0\n",
    "c2 = 0\n",
    "\n",
    "# Iterate each pair of aligned positions\n",
    "for i, z in enumerate(zip(aligned_pose, aligned_pose_clean)):\n",
    "\n",
    "    # Count the number of residues for the \"pose\" sequence\n",
    "    if z[0] != '-':\n",
    "        c1 += 1\n",
    "        \n",
    "    # print if the \"pose\" sequence is missing an aligned position\n",
    "    else:\n",
    "        print('pose is missing a '+z[1]+' in position '+str(c2))\n",
    "        \n",
    "    # Count the number of residues for the \"pose_clean\" sequence\n",
    "    if z[1] != '-':\n",
    "        c2 += 1\n",
    "        \n",
    "    # print if the \"pose_clean\" sequence is missing an aligned position\n",
    "    else:\n",
    "        print('pose_clean is missing a '+z[0]+' in position '+str(c1))"
   ]
  },
  {
   "cell_type": "markdown",
   "id": "corrected-mainstream",
   "metadata": {},
   "source": [
    "We can see that the \"pose_clean\" is missing a threonine (T) residue at position 56 (and we also see that the aligned sequence only contains protein atoms). \n",
    "\n",
    "### Accessing the ```Pose``` object chain and residue information\n",
    "\n",
    "We can check why our \"pose_clean\" is missing a protein residue by looking in more detail at our annotated sequences. First let's get the number of residues in each pose:"
   ]
  },
  {
   "cell_type": "code",
   "execution_count": null,
   "id": "engaging-liver",
   "metadata": {},
   "outputs": [],
   "source": [
    "print(pose.total_residue())\n",
    "print(pose_clean.total_residue())"
   ]
  },
  {
   "cell_type": "markdown",
   "id": "quick-kingston",
   "metadata": {},
   "source": [
    "We see we are missing five residues in our \"pose_clean\" pose. Can you name them?\n",
    "\n",
    "Now we print the annotated sequence, which gives further details about the residue types in each sequence:"
   ]
  },
  {
   "cell_type": "code",
   "execution_count": null,
   "id": "virtual-olympus",
   "metadata": {},
   "outputs": [],
   "source": [
    "print(pose.annotated_sequence())"
   ]
  },
  {
   "cell_type": "code",
   "execution_count": null,
   "id": "particular-nancy",
   "metadata": {},
   "outputs": [],
   "source": [
    "print(pose_clean.annotated_sequence())"
   ]
  },
  {
   "cell_type": "markdown",
   "id": "functioning-joseph",
   "metadata": {},
   "source": [
    "Can you see now why are we missing the threonine residue in position 56?\n",
    "\n",
    "We can access individual residues by indexing:"
   ]
  },
  {
   "cell_type": "code",
   "execution_count": null,
   "id": "reported-insider",
   "metadata": {},
   "outputs": [],
   "source": [
    "# Get first residue\n",
    "first_residue =  pose.residue(1)\n",
    "\n",
    "# Print first residue name\n",
    "print(first_residue.name())"
   ]
  },
  {
   "cell_type": "code",
   "execution_count": null,
   "id": "promotional-evans",
   "metadata": {},
   "outputs": [],
   "source": [
    "# Get residue 56\n",
    "missing_residue =  pose.residue(56)\n",
    "\n",
    "# Print residue 56 name\n",
    "print(missing_residue.name())"
   ]
  },
  {
   "cell_type": "markdown",
   "id": "married-adapter",
   "metadata": {},
   "source": [
    "In the next blank cell call the help() function upon our ```missing_residue``` object:"
   ]
  },
  {
   "cell_type": "code",
   "execution_count": null,
   "id": "abroad-karen",
   "metadata": {},
   "outputs": [],
   "source": []
  },
  {
   "cell_type": "markdown",
   "id": "fantastic-london",
   "metadata": {},
   "source": [
    "Besides accessing residues by name we can access other structure objects, like chains:"
   ]
  },
  {
   "cell_type": "code",
   "execution_count": null,
   "id": "apparent-immunology",
   "metadata": {},
   "outputs": [],
   "source": [
    "print(pose.pdb_info().chain(1))\n",
    "print(pose.pdb_info().number(1))"
   ]
  },
  {
   "cell_type": "markdown",
   "id": "balanced-annual",
   "metadata": {},
   "source": [
    "We can also access residues with the PDB indexing information. First we use the ```pdb2pose()``` method to get the index of a particular residue:"
   ]
  },
  {
   "cell_type": "code",
   "execution_count": null,
   "id": "black-tactics",
   "metadata": {
    "scrolled": true
   },
   "outputs": [],
   "source": [
    "# PDB numbering to Pose numbering\n",
    "residue_index = pose.pdb_info().pdb2pose('A', 79)\n",
    "\n",
    "print(residue_index)\n",
    "print(pose.residue(residue_index))"
   ]
  },
  {
   "cell_type": "markdown",
   "id": "detected-extraction",
   "metadata": {},
   "source": [
    "There is other kind of information we can give get from a residue object. Different residues has differnt attributes (e.g., charged, aromatic, etc...). There are methods inside a residue object that allow us to query if a particular property is a part of the residue object:"
   ]
  },
  {
   "cell_type": "code",
   "execution_count": null,
   "id": "blocked-acceptance",
   "metadata": {},
   "outputs": [],
   "source": [
    "res_28 = pose.residue(28)\n",
    "print(res_28.name())\n",
    "print(res_28.is_charged())"
   ]
  },
  {
   "cell_type": "markdown",
   "id": "australian-architecture",
   "metadata": {},
   "source": [
    "You can use autocomplete to see other proteperties that can be queried with this type of methods. In the next blank cell write:\n",
    "    \n",
    "res_28.is_\n",
    "\n",
    "Then press the tab key to see the suggestions there are available"
   ]
  },
  {
   "cell_type": "code",
   "execution_count": null,
   "id": "selective-variance",
   "metadata": {},
   "outputs": [],
   "source": []
  },
  {
   "cell_type": "markdown",
   "id": "finished-sixth",
   "metadata": {},
   "source": [
    "Try an load a Zinc residue an query if it is a metal (.is_metal?):"
   ]
  },
  {
   "cell_type": "code",
   "execution_count": null,
   "id": "funky-blake",
   "metadata": {},
   "outputs": [],
   "source": []
  },
  {
   "cell_type": "markdown",
   "id": "weekly-wisconsin",
   "metadata": {},
   "source": [
    "The residue object contains information about its atom. We can access the any atom index by using the atom's name:"
   ]
  },
  {
   "cell_type": "code",
   "execution_count": null,
   "id": "increased-opening",
   "metadata": {},
   "outputs": [],
   "source": [
    "print(res_28.atom_index('CA'))"
   ]
  },
  {
   "cell_type": "code",
   "execution_count": null,
   "id": "hearing-questionnaire",
   "metadata": {},
   "outputs": [],
   "source": [
    "res_28_CA = res_28.atom(2)\n",
    "print(res_28_CA)"
   ]
  },
  {
   "cell_type": "markdown",
   "id": "olive-practitioner",
   "metadata": {},
   "source": [
    "### Accessing the ```Residue``` object geometrical information\n",
    "\n",
    "The most important angles that describve the proteins' backbone geometry are the phi and psi angles. To access these angles for a specific residue we call the ```phi()``` or ```psi()``` methods, from the ```Pose()``` object, with the corresponding residue index:"
   ]
  },
  {
   "cell_type": "code",
   "execution_count": null,
   "id": "civil-charlotte",
   "metadata": {},
   "outputs": [],
   "source": [
    "print(\"phi:\", pose.phi(28))\n",
    "print(\"psi:\", pose.psi(28))"
   ]
  },
  {
   "cell_type": "markdown",
   "id": "dental-charge",
   "metadata": {},
   "source": [
    "Analogously, the torsions for the sidechain can be called with the ```chi()``` method, but using two indexes; one for the chi angle, and other for the residue:"
   ]
  },
  {
   "cell_type": "code",
   "execution_count": null,
   "id": "positive-glory",
   "metadata": {},
   "outputs": [],
   "source": [
    "print(\"chi1:\", pose.chi(1, 28))\n",
    "print(\"chi2:\", pose.chi(2, 28))\n",
    "print(\"chi3:\", pose.chi(3, 28))\n",
    "print(\"chi4:\", pose.chi(4, 28))"
   ]
  },
  {
   "cell_type": "markdown",
   "id": "focal-filter",
   "metadata": {},
   "source": [
    "To find out the length of specific bonds in the structure we need to create an instance of the ```conformation()``` class. This class can be used to query the length of a specific bond (```bond_length()``` method):"
   ]
  },
  {
   "cell_type": "code",
   "execution_count": null,
   "id": "creative-basis",
   "metadata": {},
   "outputs": [],
   "source": [
    "conformation = pose.conformation()"
   ]
  },
  {
   "cell_type": "code",
   "execution_count": null,
   "id": "signal-embassy",
   "metadata": {},
   "outputs": [],
   "source": [
    "conformation.bond_length?"
   ]
  },
  {
   "cell_type": "markdown",
   "id": "accompanied-beach",
   "metadata": {},
   "source": [
    "Let's first select a residue and some atoms inside it:"
   ]
  },
  {
   "cell_type": "code",
   "execution_count": null,
   "id": "mexican-domain",
   "metadata": {},
   "outputs": [],
   "source": [
    "resid = 28\n",
    "res_28 = pose.residue(resid)\n",
    "N28 = AtomID(res_28.atom_index(\"N\"), resid)\n",
    "CA28 = AtomID(res_28.atom_index(\"CA\"), resid)\n",
    "C28 = AtomID(res_28.atom_index(\"C\"), resid)"
   ]
  },
  {
   "cell_type": "markdown",
   "id": "constant-litigation",
   "metadata": {},
   "source": [
    "The ```AtomID()``` class, helps to track the atom and residue index of a specific atom. This object is used to reference the atom by other functions inside pyRosetta:"
   ]
  },
  {
   "cell_type": "code",
   "execution_count": null,
   "id": "earned-northern",
   "metadata": {},
   "outputs": [],
   "source": [
    "print(N28)"
   ]
  },
  {
   "cell_type": "markdown",
   "id": "representative-adobe",
   "metadata": {},
   "source": [
    "Now let's use the ```the bond_length()``` method to calculate some bonded distances:"
   ]
  },
  {
   "cell_type": "code",
   "execution_count": null,
   "id": "incomplete-sister",
   "metadata": {},
   "outputs": [],
   "source": [
    "print(pose.conformation().bond_length(N28, CA28))\n",
    "print(pose.conformation().bond_length(CA28, C28))"
   ]
  },
  {
   "cell_type": "markdown",
   "id": "three-psychiatry",
   "metadata": {},
   "source": [
    "This angle calculation is equivalent to take the distance between the two coordinates (position) vectors. We can get the coordinates of each atom by calling the ```xyz()``` method inside the ```Residue()``` object:"
   ]
  },
  {
   "cell_type": "code",
   "execution_count": null,
   "id": "blank-shelf",
   "metadata": {},
   "outputs": [],
   "source": [
    "# Get atom's coordinates\n",
    "N_xyz = res_28.xyz(\"N\")\n",
    "CA_xyz = res_28.xyz(\"CA\")\n",
    "C_xyz = res_28.xyz(\"C\")\n",
    "\n",
    "# Get the difference vectors\n",
    "N_CA_vector = CA_xyz - N_xyz\n",
    "CA_C_vector = CA_xyz - C_xyz\n",
    "\n",
    "# Calculate the norm (length) of each difference vector\n",
    "print(N_CA_vector.norm())\n",
    "print(CA_C_vector.norm())"
   ]
  },
  {
   "cell_type": "markdown",
   "id": "valuable-breathing",
   "metadata": {},
   "source": [
    "We note that each coordinate is a special ```Vector()``` class that contains special methods to facilitate vector operations.\n",
    "\n",
    "We can repeat the above process to calculate the angle between three connected atoms:"
   ]
  },
  {
   "cell_type": "code",
   "execution_count": null,
   "id": "amino-summit",
   "metadata": {},
   "outputs": [],
   "source": [
    "angle = pose.conformation().bond_angle(N28, CA28, C28)\n",
    "print(angle)"
   ]
  },
  {
   "cell_type": "markdown",
   "id": "environmental-attraction",
   "metadata": {},
   "source": [
    "This angle is in radians, we can transform it in to degree values by using the $\\pi$ number:"
   ]
  },
  {
   "cell_type": "code",
   "execution_count": null,
   "id": "graduate-bobby",
   "metadata": {},
   "outputs": [],
   "source": [
    "import math\n",
    "print(math.pi)"
   ]
  },
  {
   "cell_type": "code",
   "execution_count": null,
   "id": "roman-gregory",
   "metadata": {},
   "outputs": [],
   "source": [
    "print(angle*180/math.pi)"
   ]
  },
  {
   "cell_type": "markdown",
   "id": "quality-credit",
   "metadata": {},
   "source": [
    "The formula to estimate the angle between two vectors A and B is:\n",
    "    \n",
    "$\\cos(\\theta)=\\frac{A\\cdot B}{|A||B|}$\n",
    "\n",
    "Can you use above's formula to check the prvious result?"
   ]
  },
  {
   "cell_type": "markdown",
   "id": "academic-company",
   "metadata": {},
   "source": [
    "### Link PyMol to PyRosetta\n",
    "\n",
    "First, we will modify the PyMol molecular visualization program. First you need to find where the ```PyMOLRosettaServer.py``` script is located in your Conda installation of PyRosetta. Go to your Conda installation directory and execute:\n",
    "\n",
    "\n",
    "```\n",
    "find . -name PyMOLRosettaServer.py\n",
    "```\n",
    "\n",
    "This will find the script's location by matching itd name against all the files in the current directry. Now copy the path to the ```PyMOLRosettaServer.py``` script.\n",
    "\n",
    "Next go to your home directory and modify the file ```.pymolrc``` adying the following line:\n",
    "\n",
    "```\n",
    "run path_to_the_PyMOLRosettaServer.py_script\n",
    "```\n",
    "\n",
    "Where, ```path_to_the_PyMOLRosettaServer.py_script``` is the previously copied path.\n",
    "\n",
    "Save the file and start pymol in a terminal. If everything is correct you should see the ```PyMOL <---> PyRosetta link started!``` in the terminal or the PyMol command line window.\n",
    "\n",
    "#### Load a ```Pose()``` into PyMol\n",
    "\n",
    "We will use an instance of the ```PyMOLMover()``` class. "
   ]
  },
  {
   "cell_type": "code",
   "execution_count": null,
   "id": "veterinary-arthritis",
   "metadata": {},
   "outputs": [],
   "source": [
    "pymol_mover = PyMOLMover()\n",
    "pymol_mover.keep_history(True) # Do we keep all frames or just keep the last one?"
   ]
  },
  {
   "cell_type": "markdown",
   "id": "urban-myanmar",
   "metadata": {},
   "source": [
    "The ```PyMOLMover()``` class can load a Pose directly into PyMol's visualization interface. We load our previous Pose() object by calling the method ```apply()``` from the ```PyMOLMover()``` instance:"
   ]
  },
  {
   "cell_type": "code",
   "execution_count": null,
   "id": "immune-runner",
   "metadata": {},
   "outputs": [],
   "source": [
    "pymol_mover.apply(pose)"
   ]
  },
  {
   "cell_type": "markdown",
   "id": "junior-action",
   "metadata": {},
   "source": [
    "We can check hydrogen bond patters directly in PyMol with the following command:\n"
   ]
  },
  {
   "cell_type": "code",
   "execution_count": null,
   "id": "scientific-tattoo",
   "metadata": {},
   "outputs": [],
   "source": [
    "pymol_mover.send_hbonds(pose)"
   ]
  },
  {
   "cell_type": "markdown",
   "id": "composed-orbit",
   "metadata": {},
   "source": [
    "Before continuing, let's restart Pymol by closing and opening a new instance."
   ]
  },
  {
   "cell_type": "markdown",
   "id": "funky-prairie",
   "metadata": {},
   "source": [
    "### Modifying the Pose's geometry\n",
    "\n",
    "Now that we know how to access basic geometrical information in a ```Pose``` object, we move to manipulate its geometry.\n",
    "\n",
    "We create the instance:``` creating a ```Pose()``` object directly from an amino acid sequence using the function ```pose_from_sequence()```:"
   ]
  },
  {
   "cell_type": "code",
   "execution_count": null,
   "id": "extraordinary-circuit",
   "metadata": {},
   "outputs": [],
   "source": [
    "# Create a three peptide \n",
    "tripeptide = pose_from_sequence(\"AAA\")"
   ]
  },
  {
   "cell_type": "markdown",
   "id": "promotional-fitting",
   "metadata": {},
   "source": [
    "Let's print the phi and psi angles and coordinates of the 'CB' carbon of the center residue (2) of this newly created ```Pose()```."
   ]
  },
  {
   "cell_type": "code",
   "execution_count": null,
   "id": "induced-puzzle",
   "metadata": {},
   "outputs": [],
   "source": [
    "orig_phi = tripeptide.phi(2)\n",
    "orig_psi = tripeptide.psi(2)\n",
    "print(\"original phi:\", orig_phi)\n",
    "print(\"original psi:\", orig_psi)\n",
    "\n",
    "print(\"xyz coordinates:\", tripeptide.residue(2).xyz(\"CB\"))"
   ]
  },
  {
   "cell_type": "markdown",
   "id": "changing-miami",
   "metadata": {},
   "source": [
    "We see that the phi and psi angles are set to 180º when a pose is created from an amino acid sequence. \n",
    "\n",
    "Let's now load the display into PyMol"
   ]
  },
  {
   "cell_type": "code",
   "execution_count": null,
   "id": "polyphonic-cleveland",
   "metadata": {},
   "outputs": [],
   "source": [
    "pymol_mover.apply(tripeptide)"
   ]
  },
  {
   "cell_type": "markdown",
   "id": "supposed-supervisor",
   "metadata": {},
   "source": [
    "We can set specific angles to arbitrary values by using the ```set_phi()``` method inside the ```Pose()``` object:"
   ]
  },
  {
   "cell_type": "code",
   "execution_count": null,
   "id": "weird-bobby",
   "metadata": {},
   "outputs": [],
   "source": [
    "# Set the phi angle to 90 degrees\n",
    "tripeptide.set_phi(2, 90)\n",
    "\n",
    "# Print the phi and psi values after the change\n",
    "new_phi = tripeptide.phi(2)\n",
    "new_psi = tripeptide.psi(2)\n",
    "print(\"new phi:\", new_phi)\n",
    "print(\"new psi:\", new_psi)\n",
    "\n",
    "print(\"xyz coordinates:\", tripeptide.residue(2).xyz(\"CB\"))"
   ]
  },
  {
   "cell_type": "markdown",
   "id": "latin-isolation",
   "metadata": {},
   "source": [
    "We load now this into Pymol"
   ]
  },
  {
   "cell_type": "code",
   "execution_count": null,
   "id": "protected-bikini",
   "metadata": {},
   "outputs": [],
   "source": [
    "pymol_mover.apply(tripeptide)"
   ]
  },
  {
   "cell_type": "markdown",
   "id": "regular-colombia",
   "metadata": {},
   "source": [
    "We repeat the same with psi torsion angle by using the ```set_psi()``` method inside the ```Pose()``` object:"
   ]
  },
  {
   "cell_type": "code",
   "execution_count": null,
   "id": "bacterial-spyware",
   "metadata": {},
   "outputs": [],
   "source": [
    "# Set the psi angle to 90 degrees\n",
    "tripeptide.set_psi(2, 90)\n",
    "\n",
    "# Load into Pymol\n",
    "pymol_mover.apply(tripeptide)"
   ]
  },
  {
   "cell_type": "markdown",
   "id": "varied-seeking",
   "metadata": {},
   "source": [
    "Let's use:\n",
    "\n",
    "```\n",
    "File -> Reinitialize -> Everything\n",
    "```\n",
    "\n",
    "to reset Pymol.\n",
    "\n",
    "Now let's use a loop to set the second phi angle to all integer degrees. "
   ]
  },
  {
   "cell_type": "code",
   "execution_count": null,
   "id": "editorial-indianapolis",
   "metadata": {},
   "outputs": [],
   "source": [
    "import time"
   ]
  },
  {
   "cell_type": "code",
   "execution_count": null,
   "id": "descending-europe",
   "metadata": {},
   "outputs": [],
   "source": [
    "# Iterate from 0 to 359\n",
    "for i in range(0, 360, 1):\n",
    "    \n",
    "    # Set the phi angle to that number\n",
    "    tripeptide.set_phi(2, i)\n",
    "    \n",
    "    # Send pose to Pymol at each iteration\n",
    "    pymol_mover.apply(tripeptide)\n",
    "    \n",
    "    time.sleep(0.001) # Delay each send to Pymol"
   ]
  },
  {
   "cell_type": "markdown",
   "id": "bigger-vacuum",
   "metadata": {},
   "source": [
    "Reinitialize PyMol and now change the psi angle"
   ]
  },
  {
   "cell_type": "code",
   "execution_count": null,
   "id": "decreased-equity",
   "metadata": {},
   "outputs": [],
   "source": [
    "for i in range(0, 360, 1):\n",
    "    tripeptide.set_psi(2, i)\n",
    "    pymol_mover.apply(tripeptide)\n",
    "    time.sleep(0.001)"
   ]
  },
  {
   "cell_type": "markdown",
   "id": "increased-grade",
   "metadata": {},
   "source": [
    "### Creating a randomly perturbation mover\n",
    "\n",
    "We are now going to create a mover that randomly perturbs the structure's phi and psi angles by a defined magnitude. We first create the ```tripeptide``` ```Pose()``` again:"
   ]
  },
  {
   "cell_type": "code",
   "execution_count": null,
   "id": "necessary-logistics",
   "metadata": {},
   "outputs": [],
   "source": [
    "tripeptide = pose_from_sequence(\"AAA\")"
   ]
  },
  {
   "cell_type": "markdown",
   "id": "impressed-collar",
   "metadata": {},
   "source": [
    "Now we import numpy and define the random perturbation function:"
   ]
  },
  {
   "cell_type": "code",
   "execution_count": null,
   "id": "chinese-startup",
   "metadata": {},
   "outputs": [],
   "source": [
    "import numpy as np"
   ]
  },
  {
   "cell_type": "code",
   "execution_count": null,
   "id": "timely-import",
   "metadata": {},
   "outputs": [],
   "source": [
    "def perturb_random_angle(pose, max_rot=6):\n",
    "    \n",
    "    # Define the perturbation magnitude\n",
    "    magnitude = np.random.uniform(low=-max_rot, high=max_rot)\n",
    "    \n",
    "    #Chose a random angle to perturb between phi and psi\n",
    "    angle = np.random.choice(['phi', 'psi'])\n",
    "    \n",
    "    # Choose a random residue to perturb\n",
    "    residues = range( 1 , pose.total_residue()  + 1 )\n",
    "    residue = np.random.choice(residues)\n",
    "    \n",
    "    # Perturb the selected angle by the defined magnitude\n",
    "    if angle == 'phi':\n",
    "        orig_phi = pose.phi(residue)\n",
    "        pose.set_phi(residue, orig_phi+magnitude)\n",
    "        \n",
    "    elif angle == 'psi':\n",
    "        orig_psi = pose.psi(residue)\n",
    "        pose.set_psi(residue, orig_psi+magnitude)"
   ]
  },
  {
   "cell_type": "markdown",
   "id": "funded-participation",
   "metadata": {},
   "source": [
    "Our function selects a random residue and a random angle to be perturbed in the pose. The magnitude of the perturbation is selected among all possible values between -max_rot and max_rot keyword value. The modification of the angle is done on top of the previous phi or psi angle of the particular residue; this ensure that the function makes a true perturbation, and not sets the torsion to the perturbation magnitude value. \n",
    "\n",
    "Let's now apply this mover 1000 times and load into PyMol"
   ]
  },
  {
   "cell_type": "code",
   "execution_count": null,
   "id": "clean-russell",
   "metadata": {},
   "outputs": [],
   "source": [
    "pymol_mover.apply(tripeptide)\n",
    "for i in range(1000):\n",
    "    perturb_random_angle(tripeptide, max_rot=6)\n",
    "    pymol_mover.apply(tripeptide)\n",
    "    time.sleep(0.01)"
   ]
  },
  {
   "cell_type": "markdown",
   "id": "foster-funeral",
   "metadata": {},
   "source": [
    "### Creating a Ramachandran Plot\n",
    "\n",
    "The Ramachandran plot is a plot of all the protein's phi and psi angle values. We start by import plotting methods from the ```matplotlib``` library:"
   ]
  },
  {
   "cell_type": "code",
   "execution_count": null,
   "id": "monthly-supply",
   "metadata": {},
   "outputs": [],
   "source": [
    "import matplotlib.pyplot as plt"
   ]
  },
  {
   "cell_type": "markdown",
   "id": "broadband-hawaiian",
   "metadata": {},
   "source": [
    "Now we iterate all the protein's residues and store the phi and psi angle values into lists:"
   ]
  },
  {
   "cell_type": "code",
   "execution_count": null,
   "id": "sporting-discipline",
   "metadata": {},
   "outputs": [],
   "source": [
    "# Create a list of all residue indexes\n",
    "residues = range( 1 , pose_clean.total_residue()  + 1 )\n",
    "\n",
    "# Define two empty lists to store the protein-'s phi and psi values\n",
    "phi_values = []\n",
    "psi_values = []\n",
    "\n",
    "# Iterate each residue and get their torsional values\n",
    "for i in residues:\n",
    "    phi_values.append(pose_clean.phi(i))\n",
    "    psi_values.append(pose_clean.psi(i))"
   ]
  },
  {
   "cell_type": "markdown",
   "id": "purple-cigarette",
   "metadata": {},
   "source": [
    "Now that we have the phi and psi values we create a scatter plot of these values"
   ]
  },
  {
   "cell_type": "code",
   "execution_count": null,
   "id": "dangerous-anthony",
   "metadata": {},
   "outputs": [],
   "source": [
    "# Define resolution and figure size\n",
    "plt.figure(dpi=100, figsize=(4,4))\n",
    "\n",
    "# Plot the phi and psi values as a scatter plot\n",
    "plt.scatter(phi_values, psi_values, c='k', s=5)\n",
    "\n",
    "# Generate labels for each axis\n",
    "plt.xlabel('$\\phi$')\n",
    "plt.ylabel('$\\psi$')\n",
    "\n",
    "# Define the plot x and y limits\n",
    "plt.xlim(-180,180)\n",
    "plt.ylim(-180,180)\n",
    "\n",
    "# Set a title\n",
    "plt.title('My first Ramachandran plot')"
   ]
  },
  {
   "cell_type": "markdown",
   "id": "logical-token",
   "metadata": {},
   "source": [
    "We could redo the plot with the secondary structure information of each residue. First we calculate the secondary structure content of each residue and then we plot separatedly the Ramachandran points of each secondary structure type. Let's import a method to calculate the secondary structure of the ```Pose()```. "
   ]
  },
  {
   "cell_type": "code",
   "execution_count": null,
   "id": "matched-format",
   "metadata": {},
   "outputs": [],
   "source": [
    "from pyrosetta.rosetta.protocols.moves import DsspMover"
   ]
  },
  {
   "cell_type": "markdown",
   "id": "oriented-essence",
   "metadata": {},
   "source": [
    "We create an instance of the ```DsspMover()``` method, which populates the ```secstruct``` attribute of the ```Pose()```:"
   ]
  },
  {
   "cell_type": "code",
   "execution_count": null,
   "id": "expressed-chrome",
   "metadata": {},
   "outputs": [],
   "source": [
    "# Get secondary structure mover\n",
    "DSSP = DsspMover()\n",
    "DSSP.apply(pose) # populates the pose's Pose.secstruct\n",
    "SS = pose.secstruct()\n",
    "print(SS)"
   ]
  },
  {
   "cell_type": "markdown",
   "id": "known-aluminum",
   "metadata": {},
   "source": [
    "Finally we plot the Ramachandran plot by grou of secondary structure type:"
   ]
  },
  {
   "cell_type": "code",
   "execution_count": null,
   "id": "electronic-spread",
   "metadata": {},
   "outputs": [],
   "source": [
    "# Get residues indexes on the clean pose\n",
    "residues = range( 1 , pose_clean.total_residue()  + 1 )\n",
    "\n",
    "# Create dictionary to store phi values\n",
    "phi_values = {}\n",
    "phi_values['L'] = []\n",
    "phi_values['E'] = []\n",
    "phi_values['H'] = []\n",
    "\n",
    "# Create dictionary to store psi values\n",
    "psi_values = {}\n",
    "psi_values['L'] = []\n",
    "psi_values['E'] = []\n",
    "psi_values['H'] = []\n",
    "\n",
    "# Define colors for each SS type\n",
    "color = {\n",
    "    'L' : 'b',\n",
    "    'E' : 'r',\n",
    "    'H' : 'g',\n",
    "}\n",
    "\n",
    "# Iterate the residues\n",
    "for i in residues:\n",
    "    # Get the SS type for the ith residue\n",
    "    ss = SS[i-1]\n",
    "    \n",
    "    # Gert the phi values and store them in the dictionary's lists\n",
    "    phi_values[ss].append(pose_clean.phi(i))\n",
    "    # Gert the psi values and store them in the dictionary's lists\n",
    "    psi_values[ss].append(pose_clean.psi(i))\n",
    "    \n",
    "# Create a figure\n",
    "plt.figure(dpi=100, figsize=(5,5))\n",
    "\n",
    "# For each SS type create a scatter plot with a diffrent color\n",
    "for ss in phi_values:\n",
    "    plt.scatter(phi_values[ss], psi_values[ss], c=color[ss], label=ss, s=5)\n",
    "    \n",
    "# Generate labels for each axis\n",
    "plt.xlabel('$\\phi$')\n",
    "plt.ylabel('$\\psi$')\n",
    "\n",
    "# Define the plot x and y limits\n",
    "plt.xlim(-180,180)\n",
    "plt.ylim(-180,180)\n",
    "\n",
    "# Set a title\n",
    "plt.title('My second Ramachandran')\n",
    "\n",
    "# Plot the legends of the SS type\n",
    "plt.legend()"
   ]
  },
  {
   "cell_type": "markdown",
   "id": "least-azerbaijan",
   "metadata": {},
   "source": [
    "### Wrapping up\n",
    "\n",
    "In this practice session we learned:\n",
    "\n",
    "    1) How to work with jupyeter-notebooks\n",
    "\n",
    "    2) How to use PyRosetta to access a protein structure\n",
    "\n",
    "    3) How to link PyRosetta to PyMol for directly visualizying your analsyis\n",
    "\n",
    "    4) How to manipulate a protein's geometry\n",
    "\n",
    "    5) How to create a Ramachandran plot\n"
   ]
  }
 ],
 "metadata": {
  "kernelspec": {
   "display_name": "Python 3",
   "language": "python",
   "name": "python3"
  },
  "language_info": {
   "codemirror_mode": {
    "name": "ipython",
    "version": 3
   },
   "file_extension": ".py",
   "mimetype": "text/x-python",
   "name": "python",
   "nbconvert_exporter": "python",
   "pygments_lexer": "ipython3",
   "version": "3.6.10"
  }
 },
 "nbformat": 4,
 "nbformat_minor": 5
}
