{
 "cells": [
  {
   "cell_type": "markdown",
   "id": "perfect-arrest",
   "metadata": {},
   "source": [
    "# Protein and Genetic Engineering\n",
    "\n",
    "### P2 - Scoring and sampling\n",
    "\n",
    "#### Introduction\n",
    "\n",
    "One essential aspect when optimizing protein structures is to define a search principle. In our case, this search principle will be the finding of the lowest energy structure. Therefore, it is vital to have a good scoring function if we want our method to succeed. A good scoring function is the one that behaves correctly in different modeling scenarios, from protein structure to experimental thermodynamic data prediction. \n",
    "\n",
    "In this practical session, we check how to evaluate a protein Pose with the Rosetta score function, and then we use this scoring method to apply a simple Monte-Carlo search of a tripeptide molecule. \n",
    "\n",
    "#### Importing and initializing Rosetta\n",
    "\n",
    "First, we start by importing the library's content in our Jupyter notebook:"
   ]
  },
  {
   "cell_type": "code",
   "execution_count": 1,
   "id": "listed-investigator",
   "metadata": {},
   "outputs": [
    {
     "name": "stdout",
     "output_type": "stream",
     "text": [
      "PyRosetta-4 2020 [Rosetta PyRosetta4.Release.python36.ubuntu 2020.19+release.f98ad046ef76418f1431e66d54e6074e2a0ec48c 2020-05-06T13:59:29] retrieved from: http://www.pyrosetta.org\n",
      "(C) Copyright Rosetta Commons Member Institutions. Created in JHU by Sergey Lyskov and PyRosetta Team.\n",
      "\u001b[0mcore.init: \u001b[0mChecking for fconfig files in pwd and ./rosetta/flags\n",
      "\u001b[0mcore.init: \u001b[0mRosetta version: PyRosetta4.Release.python36.ubuntu r254 2020.19+release.f98ad046ef7 f98ad046ef76418f1431e66d54e6074e2a0ec48c http://www.pyrosetta.org 2020-05-06T13:59:29\n",
      "\u001b[0mcore.init: \u001b[0mcommand: PyRosetta -ex1 -ex2aro -database /home/martin/miniconda3/lib/python3.6/site-packages/pyrosetta-2020.19+release.f98ad046ef7-py3.6-linux-x86_64.egg/pyrosetta/database\n",
      "\u001b[0mbasic.random.init_random_generator: \u001b[0m'RNG device' seed mode, using '/dev/urandom', seed=-1772992587 seed_offset=0 real_seed=-1772992587\n",
      "\u001b[0mbasic.random.init_random_generator: \u001b[0mRandomGenerator:init: Normal mode, seed=-1772992587 RG_type=mt19937\n"
     ]
    }
   ],
   "source": [
    "from pyrosetta import *\n",
    "init()"
   ]
  },
  {
   "cell_type": "markdown",
   "id": "therapeutic-alarm",
   "metadata": {},
   "source": [
    "### Access, create and modify a score function\n",
    "\n",
    "We start by accessing the default Rosetta Score function (ref2015):"
   ]
  },
  {
   "cell_type": "code",
   "execution_count": null,
   "id": "starting-gospel",
   "metadata": {},
   "outputs": [],
   "source": [
    "sfxn = get_score_function(True)"
   ]
  },
  {
   "cell_type": "markdown",
   "id": "regulated-cabin",
   "metadata": {},
   "source": [
    "Let's print the score function object to see details about it:"
   ]
  },
  {
   "cell_type": "code",
   "execution_count": null,
   "id": "intended-relations",
   "metadata": {},
   "outputs": [],
   "source": [
    "print(sfxn)"
   ]
  },
  {
   "cell_type": "markdown",
   "id": "moved-austria",
   "metadata": {},
   "source": [
    "We can get the weights of individual score terms by iterating all the non-zero score terms:"
   ]
  },
  {
   "cell_type": "code",
   "execution_count": null,
   "id": "sonic-malawi",
   "metadata": {},
   "outputs": [],
   "source": [
    "for score_type in sfxn.get_nonzero_weighted_scoretypes():\n",
    "    print(score_type, sfxn.get_weight(score_type))"
   ]
  },
  {
   "cell_type": "markdown",
   "id": "fourth-arnold",
   "metadata": {},
   "source": [
    "For the definition of any of these score functions, you can check:\n",
    "\n",
    "[Rosetta Score Types](http://new.rosettacommons.org/docs/latest/rosetta_basics/scoring/score-types)\n",
    "\n",
    "We can modify any of these weights by calling the set_weigth method. Let's do this by first creating an empty score function object and then assigning weights for the 'fa_atr' and the 'fa_rep' terms."
   ]
  },
  {
   "cell_type": "code",
   "execution_count": null,
   "id": "gentle-curtis",
   "metadata": {},
   "outputs": [],
   "source": [
    "from pyrosetta.rosetta.core.scoring import *"
   ]
  },
  {
   "cell_type": "code",
   "execution_count": null,
   "id": "entertaining-iraqi",
   "metadata": {},
   "outputs": [],
   "source": [
    "sfxn2 = ScoreFunction() # Empty score function\n",
    "sfxn2.set_weight(fa_atr, 1.0)\n",
    "sfxn2.set_weight(fa_rep, 1.0)"
   ]
  },
  {
   "cell_type": "code",
   "execution_count": null,
   "id": "promotional-regression",
   "metadata": {},
   "outputs": [],
   "source": [
    "for score_type in sfxn2.get_nonzero_weighted_scoretypes():\n",
    "    print(score_type, sfxn2.get_weight(score_type))"
   ]
  },
  {
   "cell_type": "markdown",
   "id": "stuck-quebec",
   "metadata": {},
   "source": [
    "### Scoring a Pose\n",
    "\n",
    "Now, let's load a protein structure into a Pose object and get its score:"
   ]
  },
  {
   "cell_type": "code",
   "execution_count": null,
   "id": "ultimate-communist",
   "metadata": {},
   "outputs": [],
   "source": [
    "pose = pose_from_pdb('input/6Q21.pdb')"
   ]
  },
  {
   "cell_type": "markdown",
   "id": "conditional-beast",
   "metadata": {},
   "source": [
    "First, we score the Pose with the default score function:"
   ]
  },
  {
   "cell_type": "code",
   "execution_count": null,
   "id": "genuine-indication",
   "metadata": {},
   "outputs": [],
   "source": [
    "print(sfxn(pose))"
   ]
  },
  {
   "cell_type": "markdown",
   "id": "discrete-annual",
   "metadata": {},
   "source": [
    "Then, we score the Pose with the two terms score function we just created:"
   ]
  },
  {
   "cell_type": "code",
   "execution_count": null,
   "id": "educational-contrast",
   "metadata": {},
   "outputs": [],
   "source": [
    "print(sfxn2(pose))"
   ]
  },
  {
   "cell_type": "markdown",
   "id": "adjustable-logging",
   "metadata": {},
   "source": [
    "You can see that the score function values are different depending on the score function used to evaluate the Pose. We can see more details for the score function if we use the show() method:"
   ]
  },
  {
   "cell_type": "code",
   "execution_count": null,
   "id": "lesbian-niger",
   "metadata": {},
   "outputs": [],
   "source": [
    "sfxn.show(pose)"
   ]
  },
  {
   "cell_type": "code",
   "execution_count": null,
   "id": "indoor-freeze",
   "metadata": {},
   "outputs": [],
   "source": [
    "sfxn2.show(pose)"
   ]
  },
  {
   "cell_type": "markdown",
   "id": "forbidden-clark",
   "metadata": {},
   "source": [
    "The scores for this Pose are high; it is usually recommended to minimize the structures before using them for any modeling protocol.\n",
    "\n",
    "### Accessing per-residue scores\n",
    "\n",
    "Rosetta's score function is decomposable by residues; we can access the specific energy a residue in the Pose has by calling the energies() method. Let-s first score the Pose with the default energy function:"
   ]
  },
  {
   "cell_type": "code",
   "execution_count": null,
   "id": "built-scope",
   "metadata": {},
   "outputs": [],
   "source": [
    "sfxn(pose)"
   ]
  },
  {
   "cell_type": "markdown",
   "id": "covered-departure",
   "metadata": {},
   "source": [
    "Now let's see the energy for residue 24:"
   ]
  },
  {
   "cell_type": "code",
   "execution_count": null,
   "id": "recent-representative",
   "metadata": {},
   "outputs": [],
   "source": [
    "pose.energies().show(24)"
   ]
  },
  {
   "cell_type": "markdown",
   "id": "colonial-crowd",
   "metadata": {},
   "source": [
    "### Perturb Pose and evaluate its energy\n",
    "\n",
    "As in the previous practice session, we will create an alanine tripeptide, and we are going to perturb its phi and psi angles randomly.\n",
    "\n",
    "We start by creating the pose object:"
   ]
  },
  {
   "cell_type": "code",
   "execution_count": null,
   "id": "configured-auditor",
   "metadata": {},
   "outputs": [],
   "source": [
    "# Create a three peptide \n",
    "tripeptide = pose_from_sequence(\"AAA\")"
   ]
  },
  {
   "cell_type": "markdown",
   "id": "studied-armenia",
   "metadata": {},
   "source": [
    "Let's create the Pymol Visualizer to load our tripeptide pose:"
   ]
  },
  {
   "cell_type": "code",
   "execution_count": null,
   "id": "urban-immunology",
   "metadata": {
    "scrolled": true
   },
   "outputs": [],
   "source": [
    "pymol_mover = PyMOLMover()\n",
    "pymol_mover.keep_history(True)"
   ]
  },
  {
   "cell_type": "markdown",
   "id": "according-price",
   "metadata": {},
   "source": [
    "Now we send the tripeptide Pose to PyMol"
   ]
  },
  {
   "cell_type": "code",
   "execution_count": null,
   "id": "south-construction",
   "metadata": {},
   "outputs": [],
   "source": [
    "pymol_mover.apply(tripeptide)"
   ]
  },
  {
   "cell_type": "markdown",
   "id": "lesbian-participation",
   "metadata": {},
   "source": [
    "Let's now score this tripeptide pose with our default all-atom energy function:"
   ]
  },
  {
   "cell_type": "code",
   "execution_count": null,
   "id": "forbidden-catholic",
   "metadata": {},
   "outputs": [],
   "source": [
    "sfxn.show(tripeptide)"
   ]
  },
  {
   "cell_type": "markdown",
   "id": "temporal-scoop",
   "metadata": {},
   "source": [
    "We can store the total score of the pose into a variable to be able to access the energy value:"
   ]
  },
  {
   "cell_type": "code",
   "execution_count": null,
   "id": "positive-reputation",
   "metadata": {},
   "outputs": [],
   "source": [
    "energy = sfxn(tripeptide)\n",
    "print(energy)"
   ]
  },
  {
   "cell_type": "markdown",
   "id": "skilled-obligation",
   "metadata": {},
   "source": [
    "We now create a random phi or psi perturbation function for the pose. We make the function return the energy value of our modified pose:"
   ]
  },
  {
   "cell_type": "code",
   "execution_count": null,
   "id": "incorporated-investor",
   "metadata": {},
   "outputs": [],
   "source": [
    "import numpy as np"
   ]
  },
  {
   "cell_type": "code",
   "execution_count": null,
   "id": "severe-kinase",
   "metadata": {},
   "outputs": [],
   "source": [
    "def perturb_random_angle(pose, max_rot=6):\n",
    "    \n",
    "    # Define the perturbation magnitude\n",
    "    magnitude = np.random.uniform(low=-max_rot, high=max_rot)\n",
    "    \n",
    "    #Chose a random angle to perturb between phi and psi\n",
    "    angle = np.random.choice(['phi', 'psi'])\n",
    "    \n",
    "    # Choose a random residue to perturb\n",
    "    residues = range( 1 , pose.total_residue()  + 1 )\n",
    "    residue = np.random.choice(residues)\n",
    "    \n",
    "    # Perturb the selected angle by the defined magnitude\n",
    "    if angle == 'phi':\n",
    "        orig_phi = pose.phi(residue)\n",
    "        new_phi = orig_phi+magnitude\n",
    "        \n",
    "        # Keep phi value in the -180 tp 180 range\n",
    "        if new_phi > 180:\n",
    "            new_phi -= 360\n",
    "        elif new_phi <= -180:\n",
    "            new_phi += 360\n",
    "        pose.set_phi(residue, new_phi)\n",
    "        \n",
    "    elif angle == 'psi':\n",
    "        orig_psi = pose.psi(residue)\n",
    "        new_psi = orig_psi+magnitude\n",
    "        \n",
    "        # Keep psi value in the -180 tp 180 range\n",
    "        if new_psi > 180:\n",
    "            new_psi -= 360\n",
    "        elif new_psi <= -180:\n",
    "            new_psi += 360\n",
    "        pose.set_psi(residue, new_psi)"
   ]
  },
  {
   "cell_type": "markdown",
   "id": "experienced-detective",
   "metadata": {},
   "source": [
    "We can now perturb the pose a 1000 steps and check how the energy is progressing:"
   ]
  },
  {
   "cell_type": "code",
   "execution_count": null,
   "id": "sudden-falls",
   "metadata": {},
   "outputs": [],
   "source": [
    "# Redefine the tripeptide Pose\n",
    "tripeptide = pose_from_sequence(\"AAA\")\n",
    "\n",
    "# Store energies into a list\n",
    "energies = []\n",
    "\n",
    "# Create pose to store best sampled result\n",
    "best = Pose()\n",
    "best.assign(tripeptide)\n",
    "Eb = sfxn(best)\n",
    "\n",
    "for i in range(100000):\n",
    "    \n",
    "    # Perturb and store energy\n",
    "    perturb_random_angle(tripeptide)\n",
    "    E = sfxn(tripeptide)\n",
    "    energies.append(E)\n",
    "    \n",
    "    # Save pose if best stored result is lower in energy\n",
    "    if E < Eb:\n",
    "        best.assign(tripeptide)\n",
    "        Eb = E"
   ]
  },
  {
   "cell_type": "markdown",
   "id": "valid-emergency",
   "metadata": {},
   "source": [
    "Let's plot the energy progression:"
   ]
  },
  {
   "cell_type": "code",
   "execution_count": null,
   "id": "received-sperm",
   "metadata": {},
   "outputs": [],
   "source": [
    "import matplotlib.pyplot as plt"
   ]
  },
  {
   "cell_type": "code",
   "execution_count": null,
   "id": "minimal-produce",
   "metadata": {},
   "outputs": [],
   "source": [
    "plt.plot(energies)\n",
    "plt.title('Random Sampling')\n",
    "plt.xlabel('Step')\n",
    "plt.ylabel('Energy [kcal/mol]')"
   ]
  },
  {
   "cell_type": "markdown",
   "id": "wireless-velvet",
   "metadata": {},
   "source": [
    "Let's send the best sampled pose to PyMol:"
   ]
  },
  {
   "cell_type": "code",
   "execution_count": null,
   "id": "exclusive-board",
   "metadata": {},
   "outputs": [],
   "source": [
    "print('The best sampled score was: %.2f kcal/mol' % Eb)\n",
    "pymol_mover.apply(best)"
   ]
  },
  {
   "cell_type": "markdown",
   "id": "broadband-knitting",
   "metadata": {},
   "source": [
    "We repeat the process, but now we also save the phi and psi value to see which region of Ramachandran space our random perturbation of the pose is sampling. We create a new tripeptide and set the phi and psi angles to 90 for better visualization:"
   ]
  },
  {
   "cell_type": "code",
   "execution_count": null,
   "id": "corrected-devon",
   "metadata": {},
   "outputs": [],
   "source": [
    "# Redefine the tripeptide Pose\n",
    "tripeptide = pose_from_sequence(\"AAA\")\n",
    "\n",
    "# Set phi and psi values to 90\n",
    "tripeptide.set_phi(2, 90)\n",
    "tripeptide.set_psi(2, 90)\n",
    "\n",
    "# Store energies into a list\n",
    "energies = []\n",
    "\n",
    "# Store phi and psi torsion angles into a list\n",
    "phi_values = []\n",
    "psi_values = []\n",
    "\n",
    "# Create pose to store best sampled result\n",
    "best = Pose()\n",
    "best.assign(tripeptide)\n",
    "Eb = sfxn(best)\n",
    "\n",
    "for i in range(100000):\n",
    "    perturb_random_angle(tripeptide)\n",
    "    E = sfxn(tripeptide)\n",
    "    energies.append(E)\n",
    "    \n",
    "    # Store phi and psi angles\n",
    "    phi_values.append(tripeptide.phi(2))\n",
    "    psi_values.append(tripeptide.psi(2))\n",
    "    \n",
    "    # Save pose if best stored result is lower in energy\n",
    "    if E < Eb:\n",
    "        best.assign(tripeptide)\n",
    "        Eb = E"
   ]
  },
  {
   "cell_type": "markdown",
   "id": "rubber-conditions",
   "metadata": {},
   "source": [
    "Let's plot the energy:"
   ]
  },
  {
   "cell_type": "code",
   "execution_count": null,
   "id": "incorrect-delhi",
   "metadata": {},
   "outputs": [],
   "source": [
    "plt.plot(energies)\n",
    "plt.title('Random Sampling')\n",
    "plt.xlabel('Step')\n",
    "plt.ylabel('Energy [kcal/mol]')"
   ]
  },
  {
   "cell_type": "markdown",
   "id": "hidden-replacement",
   "metadata": {},
   "source": [
    "And the phi and psi values explored:"
   ]
  },
  {
   "cell_type": "code",
   "execution_count": null,
   "id": "dress-alcohol",
   "metadata": {},
   "outputs": [],
   "source": [
    "# Define resolution and figure size\n",
    "plt.figure(dpi=70, figsize=(4,4))\n",
    "\n",
    "# Plot the phi and psi values as a scatter plot\n",
    "plt.scatter(phi_values, psi_values, c='k', s=0.1)\n",
    "\n",
    "# Generate labels for each axis\n",
    "plt.xlabel('$\\phi$')\n",
    "plt.ylabel('$\\psi$')\n",
    "\n",
    "# Define the plot x and y limits\n",
    "plt.xlim(-180,180)\n",
    "plt.ylim(-180,180)\n",
    "\n",
    "# Set a title\n",
    "plt.title('Random exploration')"
   ]
  },
  {
   "cell_type": "markdown",
   "id": "extra-turtle",
   "metadata": {},
   "source": [
    "Finally, we send the best-sampled Pose to Pymol:"
   ]
  },
  {
   "cell_type": "code",
   "execution_count": null,
   "id": "detected-sweden",
   "metadata": {},
   "outputs": [],
   "source": [
    "print('The best sampled score was: %.2f kcal/mol' % Eb)\n",
    "pymol_mover.apply(best)"
   ]
  },
  {
   "cell_type": "markdown",
   "id": "inappropriate-mambo",
   "metadata": {},
   "source": [
    "### Minimization\n",
    "\n",
    "A simple minimization protocol should get us to the nearest local minima in the energy landscape. We set a function that only accepts the mover if the energy is lower after it has been applied:"
   ]
  },
  {
   "cell_type": "code",
   "execution_count": null,
   "id": "invalid-egypt",
   "metadata": {},
   "outputs": [],
   "source": [
    "def minimizer(pose, mover, score_function):\n",
    "    \n",
    "    # Get the current energy of the pose\n",
    "    E0 = score_function(pose)\n",
    "    \n",
    "    # Create a copy of the pose\n",
    "    clone_pose = Pose()\n",
    "    clone_pose.assign(pose)\n",
    "    \n",
    "    # Apply perturbation to cloned pose\n",
    "    mover(clone_pose)\n",
    "    \n",
    "    # Evaluate energy of the perturbed pose\n",
    "    E1 = score_function(clone_pose)\n",
    "    \n",
    "    # Calculate the acceptance probability\n",
    "    if E1-E0 < 0:\n",
    "        pose.assign(clone_pose)"
   ]
  },
  {
   "cell_type": "markdown",
   "id": "fitted-hazard",
   "metadata": {},
   "source": [
    "Let's run this function for 100000 steps to see how fast it converges into a local minimum."
   ]
  },
  {
   "cell_type": "code",
   "execution_count": null,
   "id": "sharp-stroke",
   "metadata": {},
   "outputs": [],
   "source": [
    "# Redefine the tripeptide Pose\n",
    "tripeptide = pose_from_sequence(\"AAA\")\n",
    "\n",
    "# Set phi and psi values to 90\n",
    "tripeptide.set_phi(2, 90)\n",
    "tripeptide.set_psi(2, 90)\n",
    "\n",
    "# Store energies into a list\n",
    "energies = []\n",
    "\n",
    "# Store phi and psi torsion angles into a list\n",
    "phi_values = []\n",
    "psi_values = []\n",
    "\n",
    "# Create pose to store best sampled result\n",
    "best = Pose()\n",
    "best.assign(tripeptide)\n",
    "Eb = sfxn(best)\n",
    "\n",
    "for i in range(100000): \n",
    "    minimizer(tripeptide, perturb_random_angle, sfxn)\n",
    "    \n",
    "    E = sfxn(tripeptide)\n",
    "    energies.append(E)\n",
    "    \n",
    "    phi_values.append(tripeptide.phi(2))\n",
    "    psi_values.append(tripeptide.psi(2))\n",
    "    \n",
    "    # Save pose if best stored result is lower in energy\n",
    "    if E < Eb:\n",
    "        best.assign(tripeptide)\n",
    "        Eb = E"
   ]
  },
  {
   "cell_type": "markdown",
   "id": "constant-reproduction",
   "metadata": {},
   "source": [
    "We plot how the system energy changes along the minimization algorithm"
   ]
  },
  {
   "cell_type": "code",
   "execution_count": null,
   "id": "structured-special",
   "metadata": {},
   "outputs": [],
   "source": [
    "plt.plot(energies)\n",
    "plt.title('Simple minimization')\n",
    "plt.xlabel('Step')\n",
    "plt.ylabel('Energy [kcal/mol]')"
   ]
  },
  {
   "cell_type": "markdown",
   "id": "portuguese-population",
   "metadata": {},
   "source": [
    "We see that in under 500 steps, our method has already converged to the nearest local minima. We can check the progression of the trajectory by plotting the phi and psi torsional values:"
   ]
  },
  {
   "cell_type": "code",
   "execution_count": null,
   "id": "american-combat",
   "metadata": {},
   "outputs": [],
   "source": [
    "# Define resolution and figure size\n",
    "plt.figure(dpi=70, figsize=(4,4))\n",
    "\n",
    "# Plot the phi and psi values as a scatter plot\n",
    "plt.scatter(phi_values, psi_values, c='k', s=0.1)\n",
    "\n",
    "# Generate labels for each axis\n",
    "plt.xlabel('$\\phi$')\n",
    "plt.ylabel('$\\psi$')\n",
    "\n",
    "# Define the plot x and y limits\n",
    "plt.xlim(-180,180)\n",
    "plt.ylim(-180,180)\n",
    "\n",
    "# Set a title\n",
    "plt.title('Simple minimization')"
   ]
  },
  {
   "cell_type": "code",
   "execution_count": null,
   "id": "present-transformation",
   "metadata": {},
   "outputs": [],
   "source": [
    "print('The best sampled score was: %.2f kcal/mol' % Eb)\n",
    "pymol_mover.apply(best)"
   ]
  },
  {
   "cell_type": "markdown",
   "id": "comparable-server",
   "metadata": {},
   "source": [
    "The exploration is stuck in the local minima, and it won't be able to escape this point since every perturbation will increase the conformation's energy.\n",
    "\n",
    "### Monte-Carlo sampling\n",
    "\n",
    "We now set up a Monte-Carlo sampling strategy for our tripeptide system. First, let's define the Monte-Carlo function:"
   ]
  },
  {
   "cell_type": "code",
   "execution_count": null,
   "id": "constant-equation",
   "metadata": {},
   "outputs": [],
   "source": [
    "def monteCarlo(pose, mover, score_function, temperature=0.5):\n",
    "    \n",
    "    # Get the current energy of the pose\n",
    "    E0 = score_function(pose)\n",
    "    \n",
    "    # Create a copy of the pose\n",
    "    clone_pose = Pose()\n",
    "    clone_pose.assign(pose)\n",
    "    \n",
    "    # Apply perturbation to cloned pose\n",
    "    mover(clone_pose)\n",
    "    \n",
    "    # Evaluate energy of the perturbed pose\n",
    "    E1 = score_function(clone_pose)\n",
    "    \n",
    "    # Calculate the acceptance probability\n",
    "    P = np.min([1, np.exp(-(E1-E0)/temperature)])\n",
    "    \n",
    "    if P >= np.random.uniform(low=0, high=1.0):\n",
    "        pose.assign(clone_pose)\n",
    "        \n",
    "        return 1\n",
    "        \n",
    "    return 0"
   ]
  },
  {
   "cell_type": "markdown",
   "id": "occupied-rental",
   "metadata": {},
   "source": [
    "Now, we start the sampling for an equal 100000 steps:"
   ]
  },
  {
   "cell_type": "code",
   "execution_count": null,
   "id": "enormous-march",
   "metadata": {},
   "outputs": [],
   "source": [
    "# Redefine the tripeptide Pose\n",
    "tripeptide = pose_from_sequence(\"AAA\")\n",
    "\n",
    "# Set phi and psi values to 90\n",
    "tripeptide.set_phi(2, 90)\n",
    "tripeptide.set_psi(2, 90)\n",
    "\n",
    "# Store energies into a list\n",
    "energies = []\n",
    "\n",
    "# Store phi and psi torsion angles into a list\n",
    "phi_values = []\n",
    "psi_values = []\n",
    "\n",
    "n_steps = 100000\n",
    "accepted = 0\n",
    "\n",
    "# Create pose to store best sampled result\n",
    "best = Pose()\n",
    "best.assign(tripeptide)\n",
    "Eb = sfxn(best)\n",
    "\n",
    "for i in range(n_steps): \n",
    "    accepted += monteCarlo(tripeptide, perturb_random_angle, sfxn)\n",
    "    \n",
    "    E = sfxn(tripeptide)\n",
    "    energies.append(E)\n",
    "    \n",
    "    phi_values.append(tripeptide.phi(2))\n",
    "    psi_values.append(tripeptide.psi(2))\n",
    "    \n",
    "    # Save pose if best stored result is lower in energy\n",
    "    if E < Eb:\n",
    "        best.assign(tripeptide)\n",
    "        Eb = E\n",
    "    \n",
    "print('Accepted fraction %s' % (accepted/n_steps))"
   ]
  },
  {
   "cell_type": "markdown",
   "id": "cutting-crisis",
   "metadata": {},
   "source": [
    "Let's now plot the energy progression of our short MC sampling:"
   ]
  },
  {
   "cell_type": "code",
   "execution_count": null,
   "id": "involved-inquiry",
   "metadata": {},
   "outputs": [],
   "source": [
    "plt.plot(energies)\n",
    "plt.title('Monte-Carlo minimization (T=0.5)')\n",
    "plt.xlabel('Step')\n",
    "plt.ylabel('Energy [kcal/mol]')"
   ]
  },
  {
   "cell_type": "markdown",
   "id": "civilian-canon",
   "metadata": {},
   "source": [
    "The system tends to explore low-energy regions of the landscape; however, the method can explore several minima since it sometimes accepts moves in the opposite direction (higher energy conformations). "
   ]
  },
  {
   "cell_type": "code",
   "execution_count": null,
   "id": "mathematical-wagner",
   "metadata": {},
   "outputs": [],
   "source": [
    "# Define resolution and figure size\n",
    "plt.figure(dpi=70, figsize=(4,4))\n",
    "\n",
    "# Plot the phi and psi values as a scatter plot\n",
    "plt.scatter(phi_values, psi_values, c='k', s=0.1)\n",
    "\n",
    "# Generate labels for each axis\n",
    "plt.xlabel('$\\phi$')\n",
    "plt.ylabel('$\\psi$')\n",
    "\n",
    "# Define the plot x and y limits\n",
    "plt.xlim(-180,180)\n",
    "plt.ylim(-180,180)\n",
    "\n",
    "# Set a title\n",
    "plt.title('Monte-Carlo sampling (T=0.5)')"
   ]
  },
  {
   "cell_type": "code",
   "execution_count": null,
   "id": "animated-filing",
   "metadata": {},
   "outputs": [],
   "source": [
    "print('The best sampled score was: %.2f kcal/mol' % Eb)\n",
    "pymol_mover.apply(best)"
   ]
  },
  {
   "cell_type": "markdown",
   "id": "corrected-original",
   "metadata": {},
   "source": [
    "Let's repeat our MC sampling but now increasing the temperature criteria to calculate the acceptance probability:"
   ]
  },
  {
   "cell_type": "code",
   "execution_count": null,
   "id": "agricultural-cincinnati",
   "metadata": {},
   "outputs": [],
   "source": [
    "# Redefine the tripeptide Pose\n",
    "tripeptide = pose_from_sequence(\"AAA\")\n",
    "\n",
    "# Set phi and psi values to 90\n",
    "tripeptide.set_phi(2, 90)\n",
    "tripeptide.set_psi(2, 90)\n",
    "\n",
    "# Store energies into a list\n",
    "energies = []\n",
    "\n",
    "# Store phi and psi torsion angles into a list\n",
    "phi_values = []\n",
    "psi_values = []\n",
    "\n",
    "# Create pose to store best sampled result\n",
    "best = Pose()\n",
    "best.assign(tripeptide)\n",
    "Eb = sfxn(best)\n",
    "\n",
    "n_steps = 100000\n",
    "accepted = 0\n",
    "\n",
    "for i in range(n_steps): \n",
    "    accepted += monteCarlo(tripeptide, perturb_random_angle, sfxn, temperature=3)\n",
    "    \n",
    "    E = sfxn(tripeptide)\n",
    "    energies.append(E)\n",
    "    \n",
    "    phi_values.append(tripeptide.phi(2))\n",
    "    psi_values.append(tripeptide.psi(2))\n",
    "    \n",
    "    # Save pose if best stored result is lower in energy\n",
    "    if E < Eb:\n",
    "        best.assign(tripeptide)\n",
    "        Eb = E\n",
    "    \n",
    "print('Accepted fraction %s' % (accepted/n_steps))"
   ]
  },
  {
   "cell_type": "code",
   "execution_count": null,
   "id": "utility-sample",
   "metadata": {},
   "outputs": [],
   "source": [
    "plt.plot(energies)\n",
    "plt.title('Monte-Carlo minimization (T=3)')\n",
    "plt.xlabel('Step')\n",
    "plt.ylabel('Energy [kcal/mol]')"
   ]
  },
  {
   "cell_type": "code",
   "execution_count": null,
   "id": "injured-poverty",
   "metadata": {},
   "outputs": [],
   "source": [
    "# Define resolution and figure size\n",
    "plt.figure(dpi=70, figsize=(4,4))\n",
    "\n",
    "# Plot the phi and psi values as a scatter plot\n",
    "plt.scatter(phi_values, psi_values, c='k', s=0.1)\n",
    "\n",
    "# Generate labels for each axis\n",
    "plt.xlabel('$\\phi$')\n",
    "plt.ylabel('$\\psi$')\n",
    "\n",
    "# Define the plot x and y limits\n",
    "plt.xlim(-180,180)\n",
    "plt.ylim(-180,180)\n",
    "\n",
    "# Set a title\n",
    "plt.title('Monte-Carlo sampling (T=3)')"
   ]
  },
  {
   "cell_type": "code",
   "execution_count": null,
   "id": "checked-supplier",
   "metadata": {},
   "outputs": [],
   "source": [
    "print('The best sampled score was: %.2f kcal/mol' % Eb)\n",
    "pymol_mover.apply(best)"
   ]
  },
  {
   "cell_type": "markdown",
   "id": "occupational-invite",
   "metadata": {},
   "source": [
    "We see that increasing the temperature now affects the magnitude of the energy-increasing steps. With bigger changes in energy in the opposite direction, the method can jump more considerable energy barriers and explore a larger surface of the energy landscape. This broader sampling will be done at the expense of exploring more poorly the regions of lower energy. It is, therefore, crucial to find a temperature that maintains a good trade-off between sampling low energy conformations and still being able to jump energy barriers between energy minima.\n",
    "\n",
    "### Simulated annealing MC sampling\n",
    "\n",
    "One strategy to solvent the temperature effect is to start with a high temperature and then reduce it as the simulation progresses. This strategy is called simulated annealing. Let's run a short simulated annealing strategy to search the torsional space of our tripeptide:"
   ]
  },
  {
   "cell_type": "code",
   "execution_count": null,
   "id": "funky-recruitment",
   "metadata": {},
   "outputs": [],
   "source": [
    "# Simulated annealing parameters\n",
    "\n",
    "Ti = 3\n",
    "Tf = 0.5\n",
    "\n",
    "# Redefine the tripeptide Pose\n",
    "tripeptide = pose_from_sequence(\"AAA\")\n",
    "\n",
    "# Set phi and psi values to 90\n",
    "tripeptide.set_phi(2, 90)\n",
    "tripeptide.set_psi(2, 90)\n",
    "\n",
    "# Store energies into a list\n",
    "energies = []\n",
    "\n",
    "# Store phi and psi torsion angles into a list\n",
    "phi_values = []\n",
    "psi_values = []\n",
    "\n",
    "# Create pose to store best sampled result\n",
    "best = Pose()\n",
    "best.assign(tripeptide)\n",
    "Eb = sfxn(best)\n",
    "\n",
    "n_steps = 100000\n",
    "accepted = 0\n",
    "\n",
    "for i in range(n_steps): \n",
    "    \n",
    "    T = Ti + i*((Tf - Ti)/(n_steps-1)) # Decrease the acceptance temperature\n",
    "    \n",
    "    accepted += monteCarlo(tripeptide, perturb_random_angle, sfxn, temperature=T)\n",
    "    \n",
    "    E = sfxn(tripeptide)\n",
    "    energies.append(E)\n",
    "    \n",
    "    phi_values.append(tripeptide.phi(2))\n",
    "    psi_values.append(tripeptide.psi(2))\n",
    "    \n",
    "    # Save pose if best stored result is lower in energy\n",
    "    if E < Eb:\n",
    "        best.assign(tripeptide)\n",
    "        Eb = E\n",
    "    \n",
    "print('Accepted fraction %s' % (accepted/n_steps))"
   ]
  },
  {
   "cell_type": "code",
   "execution_count": null,
   "id": "flying-arrow",
   "metadata": {},
   "outputs": [],
   "source": [
    "plt.plot(energies)\n",
    "plt.title('Simulated annealing Monte-Carlo minimization ($T_i$=3 and $T_f$=0.5)')\n",
    "plt.xlabel('Step')\n",
    "plt.ylabel('Energy [kcal/mol]')"
   ]
  },
  {
   "cell_type": "code",
   "execution_count": null,
   "id": "official-marshall",
   "metadata": {},
   "outputs": [],
   "source": [
    "# Define resolution and figure size\n",
    "plt.figure(dpi=70, figsize=(4,4))\n",
    "\n",
    "# Plot the phi and psi values as a scatter plot\n",
    "plt.scatter(phi_values, psi_values, c='k', s=0.1)\n",
    "\n",
    "# Generate labels for each axis\n",
    "plt.xlabel('$\\phi$')\n",
    "plt.ylabel('$\\psi$')\n",
    "\n",
    "# Define the plot x and y limits\n",
    "plt.xlim(-180,180)\n",
    "plt.ylim(-180,180)\n",
    "\n",
    "# Set a title\n",
    "plt.title('Simulated annealing Monte-Carlo minimization ($T_i$=3 and $T_f$=0.5)')"
   ]
  },
  {
   "cell_type": "code",
   "execution_count": null,
   "id": "secondary-means",
   "metadata": {},
   "outputs": [],
   "source": [
    "print('The best sampled score was: %.2f kcal/mol' % Eb)\n",
    "pymol_mover.apply(best)"
   ]
  },
  {
   "cell_type": "markdown",
   "id": "improving-cycling",
   "metadata": {},
   "source": [
    "### Cyclic simulated annealing MC sampling\n",
    "\n",
    "Another strategy is to change the temperature of the simulation in a cyclic fashion. We add a new variable which is the length of one temperature shift cycle:"
   ]
  },
  {
   "cell_type": "code",
   "execution_count": null,
   "id": "still-dakota",
   "metadata": {
    "scrolled": true
   },
   "outputs": [],
   "source": [
    "# Simulated annealing parameters\n",
    "\n",
    "T_high = 3\n",
    "T_low = 0.5\n",
    "period = 5000\n",
    "\n",
    "# Redefine the tripeptide Pose\n",
    "tripeptide = pose_from_sequence(\"AAA\")\n",
    "\n",
    "# Set phi and psi values to 90\n",
    "tripeptide.set_phi(2, 90)\n",
    "tripeptide.set_psi(2, 90)\n",
    "\n",
    "# Store energies into a list\n",
    "energies = []\n",
    "temperatures = []\n",
    "\n",
    "# Store phi and psi torsion angles into a list\n",
    "phi_values = []\n",
    "psi_values = []\n",
    "\n",
    "# Create pose to store best sampled result\n",
    "best = Pose()\n",
    "best.assign(tripeptide)\n",
    "Eb = sfxn(best)\n",
    "\n",
    "n_steps = 100000\n",
    "accepted = 0\n",
    "\n",
    "for i in range(n_steps): \n",
    "    \n",
    "    sin_fraction =  np.sin(i/(period/4)/2*np.pi) # Convert steps into a sin function with the correct period\n",
    "    T = T_low + (T_high-T_low)*((sin_fraction)+1)/2 # Multiply for dT to adjust T accordingly\n",
    "    \n",
    "    temperatures.append(T)\n",
    "    \n",
    "    accepted += monteCarlo(tripeptide, perturb_random_angle, sfxn, temperature=T)\n",
    "    \n",
    "    E = sfxn(tripeptide)\n",
    "    energies.append(E)\n",
    "    \n",
    "    phi_values.append(tripeptide.phi(2))\n",
    "    psi_values.append(tripeptide.psi(2))\n",
    "    \n",
    "    # Save pose if best stored result is lower in energy\n",
    "    if E < Eb:\n",
    "        best.assign(tripeptide)\n",
    "        Eb = E\n",
    "    \n",
    "print('Accepted fraction %s' % (accepted/n_steps))"
   ]
  },
  {
   "cell_type": "code",
   "execution_count": null,
   "id": "offensive-spain",
   "metadata": {},
   "outputs": [],
   "source": [
    "plt.plot(temperatures)\n",
    "plt.title('Cyclic simulated annealing Monte-Carlo sampling ($T_{high}$=3 and $T_{low}$=0.5)')\n",
    "plt.xlabel('Step')\n",
    "plt.ylabel('Temperature')"
   ]
  },
  {
   "cell_type": "code",
   "execution_count": null,
   "id": "ideal-purse",
   "metadata": {},
   "outputs": [],
   "source": [
    "plt.plot(energies)\n",
    "plt.title('Cyclic simulated annealing Monte-Carlo sampling ($T_{high}$=3 and $T_{low}$=0.5)')\n",
    "plt.xlabel('Step')\n",
    "plt.ylabel('Energy [kcal/mol]')"
   ]
  },
  {
   "cell_type": "code",
   "execution_count": null,
   "id": "prescribed-compensation",
   "metadata": {},
   "outputs": [],
   "source": [
    "# Define resolution and figure size\n",
    "plt.figure(dpi=70, figsize=(4,4))\n",
    "\n",
    "# Plot the phi and psi values as a scatter plot\n",
    "plt.scatter(phi_values, psi_values, c='k', s=0.1)\n",
    "\n",
    "# Generate labels for each axis\n",
    "plt.xlabel('$\\phi$')\n",
    "plt.ylabel('$\\psi$')\n",
    "\n",
    "# Define the plot x and y limits\n",
    "plt.xlim(-180,180)\n",
    "plt.ylim(-180,180)\n",
    "\n",
    "# Set a title\n",
    "plt.title('My first Ramachandran plot')"
   ]
  },
  {
   "cell_type": "code",
   "execution_count": null,
   "id": "monthly-words",
   "metadata": {},
   "outputs": [],
   "source": [
    "print('The best sampled score was: %.2f kcal/mol' % Eb)\n",
    "pymol_mover.apply(best)"
   ]
  },
  {
   "cell_type": "markdown",
   "id": "confused-concert",
   "metadata": {},
   "source": [
    "The temperature of this sampling scheme increases and decreases in a cyclic fashion. Assume the time to complete a cycle and the temperature range are well-calibrated. In that case, the method can profit from jumping high energy barriers when exploring at high temperatures and sample low-energy conformations when at low temperatures."
   ]
  }
 ],
 "metadata": {
  "kernelspec": {
   "display_name": "Python 3",
   "language": "python",
   "name": "python3"
  },
  "language_info": {
   "codemirror_mode": {
    "name": "ipython",
    "version": 3
   },
   "file_extension": ".py",
   "mimetype": "text/x-python",
   "name": "python",
   "nbconvert_exporter": "python",
   "pygments_lexer": "ipython3",
   "version": "3.6.10"
  }
 },
 "nbformat": 4,
 "nbformat_minor": 5
}
