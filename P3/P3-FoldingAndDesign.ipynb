{
 "cells": [
  {
   "cell_type": "markdown",
   "id": "continued-visit",
   "metadata": {},
   "source": [
    "# Protein and Genetic Engineering\n",
    "\n",
    "### P3 - Protein folding and design\n",
    "\n",
    "#### Introduction\n",
    "\n",
    "Protein folding and design are two faces of the same coin. The former defines the problem of finding the path to the native structure given a fixed sequence. The latter is the problem of finding the sequence that can adopt a specific fold. Although they have this semantical relationship, computationally, they are tackled very differently. However, they still maintain a very similar recipe: An optimization algorithm that evaluates the perturbation done to a given protein structure with a score function. \n",
    "\n",
    "In this practice session, we will write two algorithms to generate trajectories for the protein folding problem and a protein design method that optimizes a given structure in the protein sequence space. \n",
    "\n",
    "\n",
    "#### Importing and initializing Rosetta\n",
    "\n",
    "First, we start by importing the library's content in our Jupyter notebook:"
   ]
  },
  {
   "cell_type": "code",
   "execution_count": null,
   "id": "molecular-recommendation",
   "metadata": {},
   "outputs": [],
   "source": [
    "from pyrosetta import *\n",
    "from pyrosetta.teaching import *\n",
    "init()"
   ]
  },
  {
   "cell_type": "markdown",
   "id": "champion-village",
   "metadata": {},
   "source": [
    "### Create an extended pose from sequence\n",
    "\n",
    "We start by creating a 10-residue alanine-only Pose: "
   ]
  },
  {
   "cell_type": "code",
   "execution_count": null,
   "id": "junior-conjunction",
   "metadata": {},
   "outputs": [],
   "source": [
    "# Create a 10 residue poly A Pose\n",
    "polyA = pyrosetta.pose_from_sequence('A' * 10)\n",
    "\n",
    "# Give the name of polyA to our Pose\n",
    "polyA.pdb_info().name(\"polyA\")"
   ]
  },
  {
   "cell_type": "markdown",
   "id": "compliant-dominican",
   "metadata": {},
   "source": [
    "We are going to check the values of ϕ and ψ dihedrals in this newly created Pose (from a sequence), for all the residues in it:"
   ]
  },
  {
   "cell_type": "code",
   "execution_count": null,
   "id": "infrared-choice",
   "metadata": {
    "scrolled": true
   },
   "outputs": [],
   "source": [
    "for i in range( 1 , polyA.total_residue()  + 1 ):\n",
    "    print(\"Residue %s, phi: %i\" %(i,polyA.phi(i)))\n",
    "    print(\"Residue %s, psi: %i\" %(i,polyA.psi(i)))\n",
    "    print()"
   ]
  },
  {
   "cell_type": "markdown",
   "id": "close-athens",
   "metadata": {},
   "source": [
    "### Create the Pymol mover \n",
    "\n",
    "We are going to create a Pymol mover to be able to visualize our folding algorithm:"
   ]
  },
  {
   "cell_type": "code",
   "execution_count": null,
   "id": "virtual-charter",
   "metadata": {},
   "outputs": [],
   "source": [
    "# Create Pymol Mover instance\n",
    "pymol_mover = PyMOLMover()\n",
    "pymol_mover.keep_history(True) # Keep the history of all we send as different frames in Pymol"
   ]
  },
  {
   "cell_type": "markdown",
   "id": "stopped-customs",
   "metadata": {},
   "source": [
    "We now send our Pose to Pymol:"
   ]
  },
  {
   "cell_type": "code",
   "execution_count": null,
   "id": "aggressive-manhattan",
   "metadata": {},
   "outputs": [],
   "source": [
    "pymol_mover.apply(polyA)"
   ]
  },
  {
   "cell_type": "markdown",
   "id": "victorian-edmonton",
   "metadata": {},
   "source": [
    "### Building a simple folding algorithm\n",
    "\n",
    "In previous practical sessions, we have written a random mover to perturb our sequence; we are going to use this method together with the MonteCarlo sampler from our previous session:  "
   ]
  },
  {
   "cell_type": "code",
   "execution_count": null,
   "id": "likely-passing",
   "metadata": {},
   "outputs": [],
   "source": [
    "import numpy as np"
   ]
  },
  {
   "cell_type": "code",
   "execution_count": null,
   "id": "viral-mention",
   "metadata": {},
   "outputs": [],
   "source": [
    "def perturb_random_angle(pose, max_rot=25):\n",
    "    \n",
    "    # Define the perturbation magnitude\n",
    "    magnitude = np.random.uniform(low=-max_rot, high=max_rot)\n",
    "    \n",
    "    #Chose a random angle to perturb between phi and psi\n",
    "    angle = np.random.choice(['phi', 'psi'])\n",
    "    \n",
    "    # Choose a random residue to perturb\n",
    "    residues = range( 1 , pose.total_residue()  + 1 )\n",
    "    residue = np.random.choice(residues)\n",
    "    \n",
    "    # Perturb the selected angle by the defined magnitude\n",
    "    if angle == 'phi':\n",
    "        orig_phi = pose.phi(residue)\n",
    "        new_phi = orig_phi+magnitude\n",
    "        \n",
    "        # Keep phi value in the -180 tp 180 range\n",
    "        if new_phi > 180:\n",
    "            new_phi -= 360\n",
    "        elif new_phi <= -180:\n",
    "            new_phi += 360\n",
    "        pose.set_phi(residue, new_phi)\n",
    "        \n",
    "    elif angle == 'psi':\n",
    "        orig_psi = pose.psi(residue)\n",
    "        new_psi = orig_psi+magnitude\n",
    "        \n",
    "        # Keep psi value in the -180 tp 180 range\n",
    "        if new_psi > 180:\n",
    "            new_psi -= 360\n",
    "        elif new_psi <= -180:\n",
    "            new_psi += 360\n",
    "        pose.set_psi(residue, new_psi)"
   ]
  },
  {
   "cell_type": "code",
   "execution_count": null,
   "id": "tropical-reply",
   "metadata": {},
   "outputs": [],
   "source": [
    "def monteCarlo(pose, score_function, temperature=0.5):\n",
    "    \n",
    "    # Get the current energy of the pose\n",
    "    E0 = score_function(pose)\n",
    "    \n",
    "    # Create a copy of the pose\n",
    "    clone_pose = Pose()\n",
    "    clone_pose.assign(pose)\n",
    "    \n",
    "    # Apply perturbation to cloned pose\n",
    "    perturb_random_angle(clone_pose)\n",
    "    \n",
    "    # Evaluate energy of the perturbed pose\n",
    "    E1 = score_function(clone_pose)\n",
    "    \n",
    "    # Calculate the acceptance probability\n",
    "    P = np.min([1, np.exp(-(E1-E0)/temperature)])\n",
    "    \n",
    "    if P >= np.random.uniform(low=0, high=1.0):\n",
    "        pose.assign(clone_pose)\n",
    "        \n",
    "        return 1\n",
    "        \n",
    "    return 0"
   ]
  },
  {
   "cell_type": "markdown",
   "id": "laughing-floating",
   "metadata": {},
   "source": [
    "Let's define our all-atom score function and declare our folding method: "
   ]
  },
  {
   "cell_type": "code",
   "execution_count": null,
   "id": "thirty-vermont",
   "metadata": {},
   "outputs": [],
   "source": [
    "sfxn = get_score_function(True)"
   ]
  },
  {
   "cell_type": "code",
   "execution_count": null,
   "id": "radical-cooking",
   "metadata": {},
   "outputs": [],
   "source": [
    "# Create a 10 residue poly A Pose\n",
    "polyA = pyrosetta.pose_from_sequence('A' * 10)\n",
    "\n",
    "# Give the name of polyA to our Pose\n",
    "polyA.pdb_info().name(\"polyA\")\n",
    "\n",
    "# Store energies into a list\n",
    "energies = []\n",
    "\n",
    "n_steps = 250000\n",
    "accepted_steps = 0\n",
    "\n",
    "# Create pose to store best sampled result\n",
    "best = Pose()\n",
    "best.assign(polyA)\n",
    "Eb = sfxn(best)\n",
    "\n",
    "for i in range(n_steps): \n",
    "    \n",
    "    # Apply the mover with the MC criterion\n",
    "    accepted = monteCarlo(polyA, sfxn)\n",
    "    \n",
    "    # Save structure every 1000 steps\n",
    "    if i % 1000 == 0:\n",
    "        # Send structure to Pymol\n",
    "        pymol_mover.apply(polyA)\n",
    "    \n",
    "    # Get the pose energy \n",
    "    E = sfxn(polyA)\n",
    "    energies.append(E)\n",
    "    \n",
    "    if accepted:\n",
    "        \n",
    "        # Add one to the number of accepted steps\n",
    "        accepted_steps += 1\n",
    "\n",
    "        # Save pose if best stored result is lower in energy\n",
    "        if E < Eb:\n",
    "            best.assign(polyA)\n",
    "            Eb = E\n",
    "    \n",
    "print('Accepted fraction %s' % (accepted_steps/n_steps))"
   ]
  },
  {
   "cell_type": "markdown",
   "id": "statistical-relative",
   "metadata": {},
   "source": [
    "Besides visualizing our results, we can plot the energy progression of our protocol."
   ]
  },
  {
   "cell_type": "code",
   "execution_count": null,
   "id": "tribal-contamination",
   "metadata": {},
   "outputs": [],
   "source": [
    "import matplotlib.pyplot as plt"
   ]
  },
  {
   "cell_type": "code",
   "execution_count": null,
   "id": "stock-violation",
   "metadata": {},
   "outputs": [],
   "source": [
    "plt.plot(energies)\n",
    "plt.title('Random Sampling')\n",
    "plt.xlabel('Step')\n",
    "plt.ylabel('Energy [kcal/mol]')"
   ]
  },
  {
   "cell_type": "markdown",
   "id": "extra-sound",
   "metadata": {},
   "source": [
    "We print the best energy explored by our random folder: "
   ]
  },
  {
   "cell_type": "code",
   "execution_count": null,
   "id": "helpful-livestock",
   "metadata": {},
   "outputs": [],
   "source": [
    "print('The energy of the best conformation is: %.4f kcal/mol' % Eb)"
   ]
  },
  {
   "cell_type": "markdown",
   "id": "rough-interpretation",
   "metadata": {},
   "source": [
    "### Folding from an alpha helix\n",
    "\n",
    "We are going to repeat our folding procedure, but now starting from a helical conformation. For that, before folding, we create our poly-alanine pose and change all the backbone torsional values to alpha-helix ideal values (ϕ=-57°, ψ=-47°):"
   ]
  },
  {
   "cell_type": "code",
   "execution_count": null,
   "id": "intelligent-lloyd",
   "metadata": {},
   "outputs": [],
   "source": [
    "# Create a 10 residue poly A Pose\n",
    "polyA = pyrosetta.pose_from_sequence('A' * 10)\n",
    "\n",
    "# Give the name of polyA to our Pose\n",
    "polyA.pdb_info().name(\"polyA\")\n",
    "\n",
    "# Set phi and psi angles to ideal alpha-helix values\n",
    "for i in range( 1 , polyA.total_residue()  + 1 ):\n",
    "    polyA.set_phi(i, -57)\n",
    "    polyA.set_psi(i, -47)\n",
    "    \n",
    "# We send our pose to Pymol\n",
    "pymol_mover.apply(polyA)\n",
    "\n",
    "# Store energies into a list\n",
    "energies = []\n",
    "\n",
    "n_steps = 250000\n",
    "accepted_steps = 0\n",
    "\n",
    "# Create pose to store best sampled result\n",
    "best = Pose()\n",
    "best.assign(polyA)\n",
    "Eb = sfxn(best)\n",
    "\n",
    "for i in range(n_steps): \n",
    "    \n",
    "    # Apply the mover with the MC criterion\n",
    "    accepted = monteCarlo(polyA, sfxn)\n",
    "    \n",
    "    # Save structure every 1000 steps\n",
    "    if i % 1000 == 0:\n",
    "        # Send structure to Pymol\n",
    "        pymol_mover.apply(polyA)\n",
    "    \n",
    "    # Get the pose energy \n",
    "    E = sfxn(polyA)\n",
    "    energies.append(E)\n",
    "    \n",
    "    if accepted:\n",
    "        \n",
    "        # Add one to the number of accepted steps\n",
    "        accepted_steps += 1\n",
    "\n",
    "        # Save pose if best stored result is lower in energy\n",
    "        if E < Eb:\n",
    "            best.assign(polyA)\n",
    "            Eb = E\n",
    "    \n",
    "print('Accepted fraction %s' % (accepted_steps/n_steps))"
   ]
  },
  {
   "cell_type": "code",
   "execution_count": null,
   "id": "hidden-textbook",
   "metadata": {},
   "outputs": [],
   "source": [
    "plt.plot(energies)\n",
    "plt.title('Random Sampling from an helical conformation')\n",
    "plt.xlabel('Step')\n",
    "plt.ylabel('Energy [kcal/mol]')"
   ]
  },
  {
   "cell_type": "code",
   "execution_count": null,
   "id": "featured-equation",
   "metadata": {},
   "outputs": [],
   "source": [
    "print('The energy of the best conformation is: %.4f kcal/mol' % Eb)"
   ]
  },
  {
   "cell_type": "markdown",
   "id": "figured-superintendent",
   "metadata": {},
   "source": [
    "How does this energy compare to our previously sampled energy?"
   ]
  },
  {
   "cell_type": "markdown",
   "id": "meaningful-gossip",
   "metadata": {},
   "source": [
    "### Low resolution representation"
   ]
  },
  {
   "cell_type": "markdown",
   "id": "reduced-incident",
   "metadata": {},
   "source": [
    "The ϕ and ψ angles are not the only torsional values that need to be optimized; for most amino acids, their sidechains have one or several χ torsions, which are also essential degrees of freedom (DOF). It is common to use a coarse-grained representation of the protein's residues to simplify the earlier stages in protein folding. A popular choice represents the sidechains of each residue as a sphere centered in the CB atom (or CA for Gly) of the sidechain. Using a specialized score function that captures the protein behavior with this [granularity](https://en.wikipedia.org/wiki/Granularity), it is possible to simplify the protein representation significantly, and therefore, the number of DOF to optimize.\n",
    "\n",
    "Rosetta Centroid (coarse-grained) representation is employed in the earlier stages of optimization to accelerate the exploration of conformational space. Let's create an extended version of the human insulin (B-chain) peptide:"
   ]
  },
  {
   "cell_type": "code",
   "execution_count": null,
   "id": "earlier-louisiana",
   "metadata": {},
   "outputs": [],
   "source": [
    "# Create a 10 residue poly A Pose\n",
    "insulin = pyrosetta.pose_from_sequence('FVNQHLCGSHLVEALYLVCGERGFFYTPKT')\n",
    "\n",
    "# Give the name of polyA to our Pose\n",
    "insulin.pdb_info().name(\"insulin\")"
   ]
  },
  {
   "cell_type": "code",
   "execution_count": null,
   "id": "blank-overhead",
   "metadata": {},
   "outputs": [],
   "source": [
    "pymol_mover.apply(insulin)"
   ]
  },
  {
   "cell_type": "markdown",
   "id": "elegant-parallel",
   "metadata": {},
   "source": [
    "We can convert this full-atom Pose into a centroid representation by using the SwitchResidueTypeSetMover:"
   ]
  },
  {
   "cell_type": "code",
   "execution_count": null,
   "id": "positive-breath",
   "metadata": {},
   "outputs": [],
   "source": [
    "# Declare an instance of the SwitchResidueTypeSetMover mover:\n",
    "switchToCentroid = SwitchResidueTypeSetMover(\"centroid\")\n",
    "\n",
    "# Switch insulin representation to centroid mode\n",
    "switchToCentroid.apply(insulin)"
   ]
  },
  {
   "cell_type": "code",
   "execution_count": null,
   "id": "rental-mention",
   "metadata": {},
   "outputs": [],
   "source": [
    "# Send the centroid Pose to Pymol\n",
    "pymol_mover.apply(insulin)"
   ]
  },
  {
   "cell_type": "markdown",
   "id": "classified-builder",
   "metadata": {},
   "source": [
    "### Low resolution score function\n",
    "\n",
    "To score the low-resolution Pose, we need to use a specific score function to treat the system's interactions correctly. In our case, we are going to the default Rosetta centroid score function ('score3') "
   ]
  },
  {
   "cell_type": "code",
   "execution_count": null,
   "id": "breathing-occupation",
   "metadata": {},
   "outputs": [],
   "source": [
    "cen_sfxn = pyrosetta.create_score_function(\"score3\")\n",
    "cen_sfxn(insulin)"
   ]
  },
  {
   "cell_type": "markdown",
   "id": "level-terrain",
   "metadata": {},
   "source": [
    "Before we proceed we are going to calculate the Alpha-Carbon (CA) atoms RMSD of the pose (target) to the native (reference) structure. The RMSD formula is as follow:\n",
    "\n",
    "$ RMSD_{CA} = \\sqrt{\\frac{1}{N}\\sum_{i}^N{\\delta_i^2}}$\n",
    "\n",
    "$N$ is the number of residues, $i$ is the index of the ith CA atom, and $\\delta_i$ is the distance between the CA-atom coordinates in the reference and target structure.\n",
    "\n",
    "The RMSD is a structural distance that measures the degree of similitude between two conformations of related proteins (usually the same protein, but not necessarily). \n",
    "\n",
    "Luckily, PyRosetta already has a function to calculate this value, and we use it to estimate the RMSD of our insulin extended conformation to the native structure."
   ]
  },
  {
   "cell_type": "code",
   "execution_count": null,
   "id": "handmade-shadow",
   "metadata": {},
   "outputs": [],
   "source": [
    "# Load the insulin peptide\n",
    "insulin_native = pose_from_pdb('input/insulin_native.pdb')\n",
    "\n",
    "# Calculate RMSD for the alpha-carbon atoms for the extended and the native Poses\n",
    "CA_rmsd(insulin, insulin_native)"
   ]
  },
  {
   "cell_type": "markdown",
   "id": "adjustable-desperate",
   "metadata": {},
   "source": [
    "### Insuling simple folding\n",
    "\n",
    "Let's sample the insulin peptide folding landscape this score function:"
   ]
  },
  {
   "cell_type": "code",
   "execution_count": null,
   "id": "crude-category",
   "metadata": {},
   "outputs": [],
   "source": [
    "# Create a 10 residue poly A Pose\n",
    "insulin = pyrosetta.pose_from_sequence('FVNQHLCGSHLVEALYLVCGERGFFYTPKT')\n",
    "\n",
    "# Give the name of polyA to our Pose\n",
    "insulin.pdb_info().name(\"insulin\")\n",
    "\n",
    "# Declare an instance of the SwitchResidueTypeSetMover mover:\n",
    "switchToCentroid = SwitchResidueTypeSetMover(\"centroid\")\n",
    "\n",
    "# Switch insulin representation to centroid mode\n",
    "switchToCentroid.apply(insulin)\n",
    "\n",
    "# Score insulin with the centroid score function\n",
    "cen_sfxn(insulin)\n",
    "\n",
    "# Send the centroid Pose to Pymol\n",
    "pymol_mover.apply(insulin)\n",
    "\n",
    "# Store energies into a list\n",
    "energies = []\n",
    "\n",
    "# Store RMSD into a list\n",
    "rmsd = []\n",
    "\n",
    "n_steps = 250000\n",
    "accepted_steps = 0\n",
    "\n",
    "# Create pose to store best sampled result\n",
    "best = Pose()\n",
    "best.assign(insulin)\n",
    "Eb = cen_sfxn(best)\n",
    "\n",
    "for i in range(n_steps): \n",
    "    \n",
    "    # Apply the mover with the MC criterion\n",
    "    accepted = monteCarlo(insulin, cen_sfxn)\n",
    "    \n",
    "    # Save structure every 1000 steps\n",
    "    if i % 1000 == 0:\n",
    "        # Send structure to Pymol\n",
    "        pymol_mover.apply(insulin)\n",
    "        \n",
    "        # Save RMSD \n",
    "        rmsd.append(CA_rmsd(insulin, insulin_native))\n",
    "    \n",
    "    # Get the pose energy \n",
    "    E = cen_sfxn(insulin)\n",
    "    energies.append(E)\n",
    "    \n",
    "    if accepted:\n",
    "        \n",
    "        # Add one to the number of accepted steps\n",
    "        accepted_steps += 1\n",
    "\n",
    "        # Save pose if best stored result is lower in energy\n",
    "        if E < Eb:\n",
    "            best.assign(insulin)\n",
    "            Eb = E\n",
    "    \n",
    "print('Accepted fraction %s' % (accepted_steps/n_steps))"
   ]
  },
  {
   "cell_type": "markdown",
   "id": "regional-measurement",
   "metadata": {},
   "source": [
    "You can use the following command in PyMol to align all the frames into the same reference structure:\n",
    "\n",
    "```\n",
    "intra_fit insulin\n",
    "```\n",
    "\n",
    "We now plot the energy:"
   ]
  },
  {
   "cell_type": "code",
   "execution_count": null,
   "id": "comparable-minneapolis",
   "metadata": {},
   "outputs": [],
   "source": [
    "plt.plot(energies)\n",
    "plt.title('Insulin peptide centroid sampling')\n",
    "plt.xlabel('Step')\n",
    "plt.ylabel('Energy [kcal/mol]')"
   ]
  },
  {
   "cell_type": "markdown",
   "id": "graphic-cannon",
   "metadata": {},
   "source": [
    "Now, besides plotting the energies, we plot the RMSD progression of our simulation:"
   ]
  },
  {
   "cell_type": "code",
   "execution_count": null,
   "id": "different-seafood",
   "metadata": {},
   "outputs": [],
   "source": [
    "plt.plot(rmsd)\n",
    "plt.title('Insulin peptide centroid sampling')\n",
    "plt.xlabel('Step')\n",
    "plt.ylabel('RMSD [$\\AA$]')"
   ]
  },
  {
   "cell_type": "code",
   "execution_count": null,
   "id": "heard-intro",
   "metadata": {},
   "outputs": [],
   "source": [
    "print('The lowest explored CA RMSD is: %s ' % np.min(rmsd))"
   ]
  },
  {
   "cell_type": "markdown",
   "id": "electric-thumbnail",
   "metadata": {},
   "source": [
    "We observe that in the number of steps we have run our simulation, the energy has not converged into an energy minimum (i.e., the energy is still decreasing). Let's also send our native structure to Pymol to compare the results:"
   ]
  },
  {
   "cell_type": "code",
   "execution_count": null,
   "id": "sitting-gothic",
   "metadata": {},
   "outputs": [],
   "source": [
    "pymol_mover.apply(insulin_native)"
   ]
  },
  {
   "cell_type": "markdown",
   "id": "handmade-madness",
   "metadata": {},
   "source": [
    "Now we execute in PyMol to align the two structures:\n",
    "```\n",
    "align insulin, input_insulin_native\n",
    "```\n",
    "\n",
    "### Using fragment insertions\n",
    "\n",
    "To optimally sample the conformational space of our peptide, we are going to employ a fragment-insertion approach. Fragments are the possible configurations that small portions of our target protein can could adopt. They are based on searching the protein database (PDB) for protein segments with similar sequences to our sequence. There is a web server that can generate these fragments:\n",
    "\n",
    "[RoBetta fragment server](http://old.robetta.org/)\n",
    "\n",
    "you can find details about the fragment file format at:\n",
    "\n",
    "http://new.rosettacommons.org/docs/latest/rosetta_basics/file_types/fragment-file\n",
    "\n",
    "For our test case, we already have the fragment file in our input folder. Let's have a look at the first lines of our file:"
   ]
  },
  {
   "cell_type": "code",
   "execution_count": null,
   "id": "occupational-holiday",
   "metadata": {},
   "outputs": [],
   "source": [
    "with open('input/insulin_03_05.200_v1_3.txt') as ff:\n",
    "    for i,l in enumerate(ff):\n",
    "        print(l)\n",
    "        if i == 8:\n",
    "            break"
   ]
  },
  {
   "cell_type": "markdown",
   "id": "naked-moldova",
   "metadata": {},
   "source": [
    "We now create a mover capable of inserting a fragment into our Pose. A fragment insertion is simply the setting of the ϕ, ψ and ω torsional angles of a segment of our Pose to the values of a random fragment in the library. We start by reading our fragment file into PyRosetta:"
   ]
  },
  {
   "cell_type": "code",
   "execution_count": null,
   "id": "wound-slovakia",
   "metadata": {},
   "outputs": [],
   "source": [
    "from pyrosetta.rosetta.core.fragment import *"
   ]
  },
  {
   "cell_type": "code",
   "execution_count": null,
   "id": "governmental-confusion",
   "metadata": {},
   "outputs": [],
   "source": [
    "fragset = ConstantLengthFragSet(3)\n",
    "fragset.read_fragment_file('input/insulin_03_05.200_v1_3.txt')"
   ]
  },
  {
   "cell_type": "markdown",
   "id": "level-screw",
   "metadata": {},
   "source": [
    "Now we need to define the mover that would perform the insertion. For that, we need to create a \"MoveMap,\" which is a special kind of object telling the mover which degrees of freedom it can change:"
   ]
  },
  {
   "cell_type": "code",
   "execution_count": null,
   "id": "secondary-planet",
   "metadata": {},
   "outputs": [],
   "source": [
    "from pyrosetta.rosetta.protocols.simple_moves import ClassicFragmentMover"
   ]
  },
  {
   "cell_type": "code",
   "execution_count": null,
   "id": "round-intent",
   "metadata": {},
   "outputs": [],
   "source": [
    "movemap = MoveMap()\n",
    "movemap.set_bb(True)\n",
    "mover_3mer = ClassicFragmentMover(fragset, movemap)"
   ]
  },
  {
   "cell_type": "markdown",
   "id": "closing-abuse",
   "metadata": {},
   "source": [
    "First, let's recreate and send our extended insulin structure into PyMol to observe how the fragment insertion mover works:"
   ]
  },
  {
   "cell_type": "code",
   "execution_count": null,
   "id": "wrapped-favorite",
   "metadata": {},
   "outputs": [],
   "source": [
    "# Create an extended Pose for the insulin peptide\n",
    "insulin = pyrosetta.pose_from_sequence('FVNQHLCGSHLVEALYLVCGERGFFYTPKT')\n",
    "\n",
    "# Give the name of polyA to our Pose\n",
    "insulin.pdb_info().name(\"insulin\")\n",
    "\n",
    "# Declare an instance of the SwitchResidueTypeSetMover mover:\n",
    "switchToCentroid = SwitchResidueTypeSetMover(\"centroid\")\n",
    "\n",
    "# Switch insulin representation to centroid mode\n",
    "switchToCentroid.apply(insulin)\n",
    "\n",
    "# Score insulin with the centroid score function\n",
    "cen_sfxn(insulin)\n",
    "\n",
    "# Send the centroid Pose to Pymol\n",
    "pymol_mover.apply(insulin)\n"
   ]
  },
  {
   "cell_type": "markdown",
   "id": "expanded-submission",
   "metadata": {},
   "source": [
    "Now we will perform five fragment insertion moves and send them into PyMol:"
   ]
  },
  {
   "cell_type": "code",
   "execution_count": null,
   "id": "drawn-battle",
   "metadata": {},
   "outputs": [],
   "source": [
    "for i in range(5):\n",
    "    \n",
    "    # Insert random fragment \n",
    "    mover_3mer.apply(insulin)\n",
    "    \n",
    "    # Send the changed Pose to Pymol\n",
    "    pymol_mover.apply(insulin)"
   ]
  },
  {
   "cell_type": "markdown",
   "id": "upper-fellowship",
   "metadata": {},
   "source": [
    "### Use MC to explore with a mixed random perturbation and a fragment insertion mover\n",
    "\n",
    "We are going to sample the folding landscape but now using fragment insertions. We will limit the insertions to only 10% of the time; the remaining steps will be random angle perturbations as before. Therefore, we are going to create a new mover that randomly selects which mover to apply (a random perturbation or a fragment insertion) that would be biased only to apply the insertion mover 10% of the time:"
   ]
  },
  {
   "cell_type": "code",
   "execution_count": null,
   "id": "verbal-praise",
   "metadata": {},
   "outputs": [],
   "source": [
    "def randomPerturbationWithInsertion(pose, insertion_probability=0.1):\n",
    "    if insertion_probability <= np.random.uniform(low=0, high=1.0):\n",
    "        mover_3mer.apply(pose)\n",
    "    else:\n",
    "        perturb_random_angle(pose)"
   ]
  },
  {
   "cell_type": "markdown",
   "id": "first-shareware",
   "metadata": {},
   "source": [
    "We also redefine the MC mover to apply the previously defined mover:"
   ]
  },
  {
   "cell_type": "code",
   "execution_count": null,
   "id": "assumed-trial",
   "metadata": {},
   "outputs": [],
   "source": [
    "def monteCarloWithInsertion(pose, score_function, temperature=0.5):\n",
    "    \n",
    "    # Get the current energy of the pose\n",
    "    E0 = score_function(pose)\n",
    "    \n",
    "    # Create a copy of the pose\n",
    "    clone_pose = Pose()\n",
    "    clone_pose.assign(pose)\n",
    "    \n",
    "    # Apply perturbation with fragment insertion to cloned pose\n",
    "    randomPerturbationWithInsertion(clone_pose)\n",
    "    \n",
    "    # Evaluate energy of the perturbed pose\n",
    "    E1 = score_function(clone_pose)\n",
    "    \n",
    "    # Calculate the acceptance probability\n",
    "    P = np.min([1, np.exp(-(E1-E0)/temperature)])\n",
    "    \n",
    "    if P >= np.random.uniform(low=0, high=1.0):\n",
    "        pose.assign(clone_pose)\n",
    "        \n",
    "        return 1\n",
    "        \n",
    "    return 0"
   ]
  },
  {
   "cell_type": "markdown",
   "id": "professional-battlefield",
   "metadata": {},
   "source": [
    "Let's now fold the insulin peptide from the extended conformation:"
   ]
  },
  {
   "cell_type": "code",
   "execution_count": null,
   "id": "numerical-paraguay",
   "metadata": {},
   "outputs": [],
   "source": [
    "# Create a 10 residue poly A Pose\n",
    "insulin = pyrosetta.pose_from_sequence('FVNQHLCGSHLVEALYLVCGERGFFYTPKT')\n",
    "\n",
    "# Give the name of polyA to our Pose\n",
    "insulin.pdb_info().name(\"insulin\")\n",
    "\n",
    "# Declare an instance of the SwitchResidueTypeSetMover mover:\n",
    "switchToCentroid = SwitchResidueTypeSetMover(\"centroid\")\n",
    "\n",
    "# Switch insulin representation to centroid mode\n",
    "switchToCentroid.apply(insulin)\n",
    "\n",
    "# Score insulin with the centroid score function\n",
    "cen_sfxn(insulin)\n",
    "\n",
    "# Send the centroid Pose to Pymol\n",
    "pymol_mover.apply(insulin)\n",
    "\n",
    "# Store energies into a list\n",
    "energies = []\n",
    "\n",
    "# Store RMSD into a list\n",
    "rmsd = []\n",
    "\n",
    "n_steps = 250000\n",
    "accepted_steps = 0\n",
    "\n",
    "# Create pose to store best sampled result\n",
    "best = Pose()\n",
    "best.assign(insulin)\n",
    "Eb = cen_sfxn(best)\n",
    "\n",
    "# Create pose to store best rmsd result\n",
    "best_rmsd = Pose()\n",
    "best_rmsd.assign(insulin)\n",
    "RMSDb = CA_rmsd(insulin, insulin_native)\n",
    "\n",
    "for i in range(n_steps): \n",
    "    \n",
    "    # Apply the mover with insertion accepting with the MC criterion\n",
    "    accepted = monteCarloWithInsertion(insulin, cen_sfxn)\n",
    "    \n",
    "    # Save structure every 1000 steps\n",
    "    if i % 1000 == 0:\n",
    "        # Send structure to Pymol\n",
    "        pymol_mover.apply(insulin)\n",
    "        \n",
    "        # Save RMSD \n",
    "        rmsd.append(CA_rmsd(insulin, insulin_native))\n",
    "        \n",
    "        # Save best RMSD Pose\n",
    "        if rmsd[-1] < RMSDb:\n",
    "            best_rmsd.assign(insulin)\n",
    "            RMSDb = rmsd[-1]\n",
    "            \n",
    "    # Get the pose energy \n",
    "    E = cen_sfxn(insulin)\n",
    "    energies.append(E)\n",
    "    \n",
    "    if accepted:\n",
    "        \n",
    "        # Add one to the number of accepted steps\n",
    "        accepted_steps += 1\n",
    "\n",
    "        # Save pose if best stored result is lower in energy\n",
    "        if E < Eb:\n",
    "            best.assign(insulin)\n",
    "            Eb = E\n",
    "    \n",
    "print('Accepted fraction %s' % (accepted_steps/n_steps))"
   ]
  },
  {
   "cell_type": "code",
   "execution_count": null,
   "id": "wireless-queensland",
   "metadata": {},
   "outputs": [],
   "source": [
    "plt.plot(energies)\n",
    "plt.title('Insulin peptide centroid sampling')\n",
    "plt.xlabel('Step')\n",
    "plt.ylabel('Energy [kcal/mol]')"
   ]
  },
  {
   "cell_type": "code",
   "execution_count": null,
   "id": "trying-trinidad",
   "metadata": {},
   "outputs": [],
   "source": [
    "plt.plot(rmsd)\n",
    "plt.title('Insulin peptide centroid sampling')\n",
    "plt.xlabel('Step')\n",
    "plt.ylabel('RMSD [$\\AA$]')"
   ]
  },
  {
   "cell_type": "code",
   "execution_count": null,
   "id": "historic-power",
   "metadata": {},
   "outputs": [],
   "source": [
    "print('The lowest explored CA RMSD is: %s ' % np.min(rmsd))"
   ]
  },
  {
   "cell_type": "code",
   "execution_count": null,
   "id": "initial-uncle",
   "metadata": {},
   "outputs": [],
   "source": [
    "pymol_mover.apply(insulin_native)"
   ]
  },
  {
   "cell_type": "markdown",
   "id": "rapid-arrow",
   "metadata": {},
   "source": [
    "How does this run compare with the exploration without fragment insertion?\n",
    "\n",
    "Finally, let's send our best RMSD pose to Pymol:"
   ]
  },
  {
   "cell_type": "code",
   "execution_count": null,
   "id": "least-storage",
   "metadata": {},
   "outputs": [],
   "source": [
    "pymol_mover.apply(best_rmsd)"
   ]
  },
  {
   "cell_type": "markdown",
   "id": "assumed-analysis",
   "metadata": {},
   "source": [
    "## Protein design\n",
    "\n",
    "We have explored some techniques for folding proteins. We now move to optimize the sequence space for a specific protein structure (protein design). We will design a peptide to an SH3 domain by employing a pre-existing structure in the PDB [2DRK](https://www.rcsb.org/structure/2DRK). We have deleted the original sequence information by substituting all the side chains for alanines. \n",
    "\n",
    "Let's load this PDB file into a Pose object:"
   ]
  },
  {
   "cell_type": "code",
   "execution_count": null,
   "id": "mathematical-spelling",
   "metadata": {},
   "outputs": [],
   "source": [
    "sh3_peptide = pose_from_pdb('input/SH3_polyA.pdb')\n",
    "\n",
    "# We score our pose \n",
    "sfxn(sh3_peptide)"
   ]
  },
  {
   "cell_type": "markdown",
   "id": "labeled-skating",
   "metadata": {},
   "source": [
    "Note that the pose has been minimized before be designed. Why should we do that?"
   ]
  },
  {
   "cell_type": "code",
   "execution_count": null,
   "id": "linear-belief",
   "metadata": {},
   "outputs": [],
   "source": [
    "pymol_mover.apply(sh3_peptide)"
   ]
  },
  {
   "cell_type": "markdown",
   "id": "baking-pressing",
   "metadata": {},
   "source": [
    "The algorithm for the design stage will be a MonteCarlo optimization of a combined perturbation mover:\n",
    "\n",
    "- Small rigid body perturbation\n",
    "- Random backbone perturbation\n",
    "- Packing rotamers with design options for the peptide sequence\n",
    "- Side-chain gradient-based minimization\n",
    "\n",
    "This combined perturbation should sample different side-chain rotamers at each backbone conformation that will help us select sequences that stabilize our given structure.\n",
    "\n",
    "\n",
    "We start by defining the respective movers that we will later combine into our MC sampling method. \n",
    "\n",
    "### Small rigid body perturbations\n",
    "\n",
    "We call the RigidBodyPerturbNoCenterMover mover to define small random translations of our peptide. We will limit the peptide translation to a magnitude of 0.2 angstroms. The mover will be applied to the first jump between the two chains, and it will respect the fold tree (see below)."
   ]
  },
  {
   "cell_type": "code",
   "execution_count": null,
   "id": "separate-macintosh",
   "metadata": {},
   "outputs": [],
   "source": [
    "# Define an instance of the RigidBodyPerturbNoCenterMover\n",
    "rb_mover = rosetta.protocols.rigid.RigidBodyPerturbNoCenterMover()\n",
    "\n",
    "# Define rotational magnitude to zero (no rotation)\n",
    "rb_mover.rot_magnitude(0)\n",
    "\n",
    "# Define translation magnitude to 0.2 Angstroms\n",
    "rb_mover.trans_magnitude(0.2)"
   ]
  },
  {
   "cell_type": "markdown",
   "id": "linear-cliff",
   "metadata": {},
   "source": [
    "### Random backbone perturbation\n",
    "\n",
    "Random backbone perturbations will be carried out with the SmallMover. The mover needs to be restricted to the backbone positions of the peptide only, as we would like to modify the BB DOF only. To restrict the perturbations to specific residues, we need to define a MoveMap (MM). The MM defines which residue can be affected by a mover that perturbs the backbone DOFs.\n",
    "\n",
    "We start by defining the MM:"
   ]
  },
  {
   "cell_type": "code",
   "execution_count": null,
   "id": "genetic-latino",
   "metadata": {},
   "outputs": [],
   "source": [
    "# This creates a movemap instance. All DOFs are disabled by default.\n",
    "small_mm = pyrosetta.rosetta.core.kinematics.MoveMap()\n",
    "\n",
    "# This tells the MM that this stretch of residues can move their backbone DOFs. \n",
    "small_mm.set_bb_true_range(60, 70)"
   ]
  },
  {
   "cell_type": "markdown",
   "id": "cheap-parking",
   "metadata": {},
   "source": [
    "Now we can set up the Small move to only perturb those residues defined in the MM:"
   ]
  },
  {
   "cell_type": "code",
   "execution_count": null,
   "id": "regulation-scheduling",
   "metadata": {},
   "outputs": [],
   "source": [
    "# Create a new instance of the small mover\n",
    "small_mover = pyrosetta.rosetta.protocols.simple_moves.SmallMover()\n",
    "\n",
    "# Define the magnitude of the random perturbation\n",
    "small_mover.angle_max(10)\n",
    "\n",
    "# Define the temperature (small mover inner MC that select torsions according to a ramachandran score)\n",
    "small_mover.temperature(0.5)\n",
    "\n",
    "# Define the number of small mover attempts that will be carried out\n",
    "small_mover.nmoves(500)\n",
    "\n",
    "# Pass the MM to the small mover\n",
    "small_mover.movemap(small_mm)"
   ]
  },
  {
   "cell_type": "markdown",
   "id": "hairy-wallace",
   "metadata": {},
   "source": [
    "### Packing rotamers with design options for the peptide sequence\n",
    "\n",
    "We have defined the small rigid body translation and the small perturbations to the BB torsions, we move to define the rotamer packer mover. This mover is responsible for the design stage of the peptide; however, we need to be very careful about how we will optimize the side chain's positions at each residue. Depending on this, we can select which positions will be designed, repacked (treated as flexible but not changing their identity), or kept fixed (won't move at all).\n",
    "\n",
    "Since we are engaged in designing a peptide that can bound the SH3 domain, we will define the peptide positions as designable, the neighboring receptor positions (those close to the peptide) as repackable, and the remainder as fixed. To define this in PyRosetta, we use TaskOperations (TO), which will define the behavior of the packer mover. We also employ residue selectors to specify the set of residues affected by the TO dynamically.\n",
    "\n",
    "Let's define first the residue selectors:"
   ]
  },
  {
   "cell_type": "code",
   "execution_count": null,
   "id": "dressed-capture",
   "metadata": {},
   "outputs": [],
   "source": [
    "# Import all needed objects from PyRosetta\n",
    "from rosetta.core.select import residue_selector as selections\n",
    "\n",
    "from rosetta.core.pack.task import TaskFactory\n",
    "from rosetta.core.pack.task import operation\n",
    "\n",
    "from rosetta.core import select"
   ]
  },
  {
   "cell_type": "code",
   "execution_count": null,
   "id": "cutting-atlas",
   "metadata": {},
   "outputs": [],
   "source": [
    "# This selects all the receptor residues (first chain)\n",
    "receptor_selector = selections.ChainSelector(1)\n",
    "\n",
    "# This selects all the peptide residues (second chain)\n",
    "peptide_selector = selections.ChainSelector(2)\n",
    "\n",
    "# This creates an instance of the NeighborhoodResidueSelector\n",
    "nbr_selector = selections.NeighborhoodResidueSelector()\n",
    "\n",
    "# This tell the NeighborhoodResidueSelector to select residues close to the peptide\n",
    "nbr_selector.set_focus_selector(peptide_selector)\n",
    "\n",
    "# This includes the peptide residues in the selection\n",
    "nbr_selector.set_include_focus_in_subset(True)"
   ]
  },
  {
   "cell_type": "markdown",
   "id": "worth-longitude",
   "metadata": {},
   "source": [
    "We can explore which residues are affected in our Pose by the defined residue selectors:"
   ]
  },
  {
   "cell_type": "code",
   "execution_count": null,
   "id": "valued-president",
   "metadata": {},
   "outputs": [],
   "source": [
    "for i in select.get_residue_set_from_subset(peptide_selector.apply(sh3_peptide)):\n",
    "    print(i)"
   ]
  },
  {
   "cell_type": "code",
   "execution_count": null,
   "id": "dressed-mainland",
   "metadata": {},
   "outputs": [],
   "source": [
    "for i in select.get_residue_set_from_subset(nbr_selector.apply(sh3_peptide)):\n",
    "    print(i)"
   ]
  },
  {
   "cell_type": "markdown",
   "id": "ordered-marine",
   "metadata": {},
   "source": [
    "We can refer to the specific subsets using residue selectors; we set their behavior by defining TO upon them. One generic class of TO is the Residue Level Task (RLT) operations, which define specific behaviors for residues. Let's define the ones we are going to need:"
   ]
  },
  {
   "cell_type": "code",
   "execution_count": null,
   "id": "amended-issue",
   "metadata": {},
   "outputs": [],
   "source": [
    "# Define RLT to prevent repacking of residues (fixed side chains)\n",
    "prevent_repacking_rlt = operation.PreventRepackingRLT()\n",
    "\n",
    "# Define RLT to only repack residues (movable side chains but fixed sequence)\n",
    "restrict_repacking_rlt = operation.RestrictToRepackingRLT()\n",
    "\n",
    "# Define RLT to design residues (designable positions)\n",
    "restrict_design_rlt = operation.ExtraRotamersGenericRLT()"
   ]
  },
  {
   "cell_type": "markdown",
   "id": "subjective-schedule",
   "metadata": {},
   "source": [
    "Now we need to assign these behaviors to specific residues in the complex. For that, we use the TO OperateOnResidueSubset, which associates a TO with a residue selector. We create one per each instruction we need:"
   ]
  },
  {
   "cell_type": "code",
   "execution_count": null,
   "id": "undefined-prisoner",
   "metadata": {},
   "outputs": [],
   "source": [
    "# This prevents the repacking (fix) of the selected residues. \n",
    "# The True given to the function means to invert the residue selection.\n",
    "# Therefore, everything that is not peptide or it's neighbours will not be moved.\n",
    "prevent_subset_repacking = operation.OperateOnResidueSubset(prevent_repacking_rlt, nbr_selector, True)\n",
    "\n",
    "# This will allow receptor residues to only be repackable.\n",
    "restrict_subset_to_repacking = operation.OperateOnResidueSubset(restrict_repacking_rlt, receptor_selector)"
   ]
  },
  {
   "cell_type": "markdown",
   "id": "warming-density",
   "metadata": {},
   "source": [
    "How do we give these TO definitions to the packer mover?\n",
    "\n",
    "We do so by the use of a TaskFactory (TF). The TF allows to update the residues selection and TO every time the mover is called. Therefore it allows to adapt dynamically to changes in the Pose that affect the residue selectors, and therefore change which residues will be affected by the TOs paired with it. \n",
    "\n",
    "We start by creating the TF and give the specific TO one by one. After each time, we are going to query our Pose to print how the current TF will affect the packing of the residues in it:"
   ]
  },
  {
   "cell_type": "code",
   "execution_count": null,
   "id": "efficient-brief",
   "metadata": {},
   "outputs": [],
   "source": [
    "tf = TaskFactory()"
   ]
  },
  {
   "cell_type": "code",
   "execution_count": null,
   "id": "connected-sweden",
   "metadata": {
    "scrolled": true
   },
   "outputs": [],
   "source": [
    "print(tf.create_task_and_apply_taskoperations(sh3_peptide))"
   ]
  },
  {
   "cell_type": "markdown",
   "id": "finite-station",
   "metadata": {},
   "source": [
    "All positions are defined as designable by a newly created TF. We now fix residues not covered by the nbr_selector:"
   ]
  },
  {
   "cell_type": "code",
   "execution_count": null,
   "id": "baking-scheduling",
   "metadata": {},
   "outputs": [],
   "source": [
    "tf.push_back(prevent_subset_repacking)"
   ]
  },
  {
   "cell_type": "code",
   "execution_count": null,
   "id": "neural-webmaster",
   "metadata": {
    "scrolled": true
   },
   "outputs": [],
   "source": [
    "print(tf.create_task_and_apply_taskoperations(sh3_peptide))"
   ]
  },
  {
   "cell_type": "markdown",
   "id": "answering-branch",
   "metadata": {},
   "source": [
    "We can see how some residues won't move when the packer is called upon the Pose. Finally, we set the receptor residues not affected by the first TO to only be repacked. "
   ]
  },
  {
   "cell_type": "code",
   "execution_count": null,
   "id": "imported-commissioner",
   "metadata": {},
   "outputs": [],
   "source": [
    "tf.push_back(restrict_subset_to_repacking)"
   ]
  },
  {
   "cell_type": "code",
   "execution_count": null,
   "id": "immediate-audience",
   "metadata": {
    "scrolled": true
   },
   "outputs": [],
   "source": [
    "print(tf.create_task_and_apply_taskoperations(sh3_peptide))"
   ]
  },
  {
   "cell_type": "markdown",
   "id": "center-opportunity",
   "metadata": {},
   "source": [
    "The TF push_back() method puts the last given TO at the beginning of the list. This reordering means that the order in which they will be applied is reversed. Think about how the positions are affected by the order in which the TOs are applied.\n",
    "\n",
    "We observe that our TF have now the expected behavior, so we are ready to pass it to the packer mover:"
   ]
  },
  {
   "cell_type": "code",
   "execution_count": null,
   "id": "flexible-mailman",
   "metadata": {},
   "outputs": [],
   "source": [
    "# Creates an instance of the pack rotamer mover\n",
    "pack_rotamers = pyrosetta.rosetta.protocols.minimization_packing.PackRotamersMover()\n",
    "\n",
    "# Pass the TF to the packer mover\n",
    "pack_rotamers.task_factory(tf)"
   ]
  },
  {
   "cell_type": "markdown",
   "id": "nutritional-mistake",
   "metadata": {},
   "source": [
    "### Side-chain gradient-based minimization\n",
    "\n",
    "The last mover will be a gradient-based minimization of the placed side chains. This minimization is carried out to move the sidechains to the nearest local energy minimum. The minMover can also receive a MM to define which DOFs will be allowed to minimize. In the MM, we can also define if chi torsions are allowed to move. We will tell the system that only chi values will be allowed to be minimized:"
   ]
  },
  {
   "cell_type": "code",
   "execution_count": null,
   "id": "finite-williams",
   "metadata": {},
   "outputs": [],
   "source": [
    "# Create an instance of the MM class\n",
    "min_mm = pyrosetta.rosetta.core.kinematics.MoveMap()\n",
    "\n",
    "# Define BB torsion as fixed\n",
    "min_mm.set_bb(False)\n",
    "\n",
    "# Defin chi torsions as movable. \n",
    "min_mm.set_chi(True)"
   ]
  },
  {
   "cell_type": "markdown",
   "id": "democratic-mountain",
   "metadata": {},
   "source": [
    "We now pass this MM to the MinMover:"
   ]
  },
  {
   "cell_type": "code",
   "execution_count": null,
   "id": "challenging-klein",
   "metadata": {},
   "outputs": [],
   "source": [
    "# Creates an instance of the minMover\n",
    "minMover = rosetta.protocols.minimization_packing.MinMover()\n",
    "\n",
    "# Define the change in energy upon which the minimization will be stopped\n",
    "minMover.tolerance(0.01)\n",
    "\n",
    "# Pass the MM to the mover\n",
    "minMover.movemap(min_mm)"
   ]
  },
  {
   "cell_type": "markdown",
   "id": "disabled-chrome",
   "metadata": {},
   "source": [
    "### Define the FoldTree\n",
    "\n",
    "The fold tree (FT) is an advanced topic we have not discussed yet. In summary, it defines the direction that perturbations will propagate into the coordinates of the Pose. You can find an introductory tutorial [here](https://www.rosettacommons.org/demos/latest/tutorials/fold_tree/fold_tree). We discuss it further in the practice session:"
   ]
  },
  {
   "cell_type": "code",
   "execution_count": null,
   "id": "cosmetic-summary",
   "metadata": {},
   "outputs": [],
   "source": [
    "# Define a FT instance\n",
    "fold_tree = FoldTree()\n",
    "\n",
    "# Add the different edges to the new FT instance\n",
    "fold_tree.add_edge(52, 1, -1)\n",
    "fold_tree.add_edge(52, 59, -1)\n",
    "fold_tree.add_edge(52, 65, 1)\n",
    "fold_tree.add_edge(65, 60, -1)\n",
    "fold_tree.add_edge(65, 69, -1)"
   ]
  },
  {
   "cell_type": "markdown",
   "id": "flush-liverpool",
   "metadata": {},
   "source": [
    "We pass this FT definition to our Pose:"
   ]
  },
  {
   "cell_type": "code",
   "execution_count": null,
   "id": "close-mention",
   "metadata": {},
   "outputs": [],
   "source": [
    "sh3_peptide.fold_tree(fold_tree)"
   ]
  },
  {
   "cell_type": "markdown",
   "id": "alleged-popularity",
   "metadata": {},
   "source": [
    "### Protein design using MC \n",
    "\n",
    "We are going to apply the combined mover inside an MC algorithm:\n",
    "\n",
    "- Small rigid body perturbation\n",
    "- Random backbone perturbation\n",
    "- Packing rotamers with design options for the peptide sequence\n",
    "- Side-chain gradient-based minimization\n",
    "\n",
    "During the MC, we will store the energies and the best Pose so far explored. Let-s define the MC function:"
   ]
  },
  {
   "cell_type": "code",
   "execution_count": null,
   "id": "medium-curtis",
   "metadata": {},
   "outputs": [],
   "source": [
    "def monteCarloPeptideDesign(pose, score_function, temperature=0.8):\n",
    "    \n",
    "    # Get the current energy of the pose\n",
    "    E0 = score_function(pose)\n",
    "    \n",
    "    # Create a copy of the pose\n",
    "    clone_pose = Pose()\n",
    "    clone_pose.assign(pose)\n",
    "    \n",
    "    # Apply design moves\n",
    "    rb_mover.apply(clone_pose)\n",
    "    small_mover.apply(clone_pose)\n",
    "    pack_rotamers.apply(clone_pose)\n",
    "    minMover.apply(clone_pose)\n",
    "    \n",
    "    # Evaluate energy of the perturbed pose\n",
    "    E1 = score_function(clone_pose)\n",
    "    \n",
    "    # Calculate the acceptance probability\n",
    "    P = np.min([1, np.exp(-(E1-E0)/temperature)])\n",
    "    \n",
    "    if P >= np.random.uniform(low=0, high=1.0):\n",
    "        pose.assign(clone_pose)\n",
    "        \n",
    "        return 1\n",
    "        \n",
    "    return 0"
   ]
  },
  {
   "cell_type": "markdown",
   "id": "general-artist",
   "metadata": {},
   "source": [
    "We ran our MC design method for 100 steps only since the pack rotamer mover is very time consuming:"
   ]
  },
  {
   "cell_type": "code",
   "execution_count": null,
   "id": "literary-fairy",
   "metadata": {
    "scrolled": true
   },
   "outputs": [],
   "source": [
    "# Store energies into a list\n",
    "energies = []\n",
    "\n",
    "n_steps = 100\n",
    "accepted_steps = 0\n",
    "\n",
    "# Create pose to store best sampled result\n",
    "best = Pose()\n",
    "best.assign(sh3_peptide)\n",
    "Eb = sfxn(best)\n",
    "\n",
    "for i in range(n_steps): \n",
    "    \n",
    "    # Apply the mover with insertion accepting with the MC criterion\n",
    "    accepted = monteCarloPeptideDesign(sh3_peptide, sfxn)\n",
    "    \n",
    "    # Send structure to Pymol at each step\n",
    "    pymol_mover.apply(sh3_peptide)\n",
    "        \n",
    "    # Get the pose energy \n",
    "    E = sfxn(sh3_peptide)\n",
    "    energies.append(E)\n",
    "    \n",
    "    if accepted:\n",
    "        \n",
    "        # Add one to the number of accepted steps\n",
    "        accepted_steps += 1\n",
    "\n",
    "        # Save pose if best stored result is lower in energy\n",
    "        if E < Eb:\n",
    "            best.assign(sh3_peptide)\n",
    "            Eb = E\n",
    "    \n",
    "print('Accepted fraction %s' % (accepted_steps/n_steps))"
   ]
  },
  {
   "cell_type": "markdown",
   "id": "committed-princeton",
   "metadata": {},
   "source": [
    "We now plot the energies explored by the method:"
   ]
  },
  {
   "cell_type": "code",
   "execution_count": null,
   "id": "passive-arcade",
   "metadata": {},
   "outputs": [],
   "source": [
    "plt.plot(energies)\n",
    "plt.title('SH3 peptide design')\n",
    "plt.xlabel('Step')\n",
    "plt.ylabel('Energy [kcal/mol]')"
   ]
  },
  {
   "cell_type": "code",
   "execution_count": null,
   "id": "imperial-directive",
   "metadata": {},
   "outputs": [],
   "source": [
    "print('The energy of the best design is: %s kcal/mol' % Eb)"
   ]
  },
  {
   "cell_type": "markdown",
   "id": "equivalent-concept",
   "metadata": {},
   "source": [
    "### Compare designed sequence to the original sequence\n",
    "\n",
    "Now we are going to compare the best-designed sequence to the original peptide sequence in the PDB:"
   ]
  },
  {
   "cell_type": "code",
   "execution_count": null,
   "id": "spiritual-action",
   "metadata": {},
   "outputs": [],
   "source": [
    "sh3_acan125 = pose_from_pdb('input/SH3_Acan125.pdb')"
   ]
  },
  {
   "cell_type": "code",
   "execution_count": null,
   "id": "transsexual-atlas",
   "metadata": {},
   "outputs": [],
   "source": [
    "# The last 10 residues belong to the peptide sequence\n",
    "print(best.sequence()[-10:])\n",
    "print(sh3_acan125.sequence()[-10:])"
   ]
  },
  {
   "cell_type": "markdown",
   "id": "recovered-chemistry",
   "metadata": {},
   "source": [
    "How do they compare?\n",
    "\n",
    "Finally, we write down into a file our best-designed structure"
   ]
  },
  {
   "cell_type": "code",
   "execution_count": null,
   "id": "extraordinary-breath",
   "metadata": {},
   "outputs": [],
   "source": [
    "rosetta.core.io.pdb.dump_pdb(best, 'best_design.pdb')"
   ]
  }
 ],
 "metadata": {
  "kernelspec": {
   "display_name": "Python 3",
   "language": "python",
   "name": "python3"
  },
  "language_info": {
   "codemirror_mode": {
    "name": "ipython",
    "version": 3
   },
   "file_extension": ".py",
   "mimetype": "text/x-python",
   "name": "python",
   "nbconvert_exporter": "python",
   "pygments_lexer": "ipython3",
   "version": "3.6.10"
  }
 },
 "nbformat": 4,
 "nbformat_minor": 5
}
